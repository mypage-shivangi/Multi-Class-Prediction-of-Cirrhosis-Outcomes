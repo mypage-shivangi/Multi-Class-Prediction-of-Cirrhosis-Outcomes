{
 "cells": [
  {
   "cell_type": "code",
   "execution_count": 1,
   "id": "a0c77dc7",
   "metadata": {
    "_cell_guid": "b1076dfc-b9ad-4769-8c92-a6c4dae69d19",
    "_uuid": "8f2839f25d086af736a60e9eeb907d3b93b6e0e5",
    "execution": {
     "iopub.execute_input": "2025-07-15T15:26:43.804674Z",
     "iopub.status.busy": "2025-07-15T15:26:43.804276Z",
     "iopub.status.idle": "2025-07-15T15:26:45.768821Z",
     "shell.execute_reply": "2025-07-15T15:26:45.767672Z"
    },
    "papermill": {
     "duration": 1.974554,
     "end_time": "2025-07-15T15:26:45.770670",
     "exception": false,
     "start_time": "2025-07-15T15:26:43.796116",
     "status": "completed"
    },
    "tags": []
   },
   "outputs": [
    {
     "name": "stdout",
     "output_type": "stream",
     "text": [
      "/kaggle/input/cirrhosis-prediction/train.csv\n",
      "/kaggle/input/cirrhosis-prediction/test.csv\n"
     ]
    }
   ],
   "source": [
    "# This Python 3 environment comes with many helpful analytics libraries installed\n",
    "# It is defined by the kaggle/python Docker image: https://github.com/kaggle/docker-python\n",
    "# For example, here's several helpful packages to load\n",
    "\n",
    "import numpy as np # linear algebra\n",
    "import pandas as pd # data processing, CSV file I/O (e.g. pd.read_csv)\n",
    "\n",
    "# Input data files are available in the read-only \"../input/\" directory\n",
    "# For example, running this (by clicking run or pressing Shift+Enter) will list all files under the input directory\n",
    "\n",
    "import os\n",
    "for dirname, _, filenames in os.walk('/kaggle/input'):\n",
    "    for filename in filenames:\n",
    "        print(os.path.join(dirname, filename))\n",
    "\n",
    "# You can write up to 20GB to the current directory (/kaggle/working/) that gets preserved as output when you create a version using \"Save & Run All\" \n",
    "# You can also write temporary files to /kaggle/temp/, but they won't be saved outside of the current session"
   ]
  },
  {
   "cell_type": "code",
   "execution_count": 2,
   "id": "612d6852",
   "metadata": {
    "execution": {
     "iopub.execute_input": "2025-07-15T15:26:45.784831Z",
     "iopub.status.busy": "2025-07-15T15:26:45.783989Z",
     "iopub.status.idle": "2025-07-15T15:26:45.871246Z",
     "shell.execute_reply": "2025-07-15T15:26:45.870225Z"
    },
    "papermill": {
     "duration": 0.096218,
     "end_time": "2025-07-15T15:26:45.872996",
     "exception": false,
     "start_time": "2025-07-15T15:26:45.776778",
     "status": "completed"
    },
    "tags": []
   },
   "outputs": [],
   "source": [
    "df=pd.read_csv('/kaggle/input/cirrhosis-prediction/train.csv')"
   ]
  },
  {
   "cell_type": "code",
   "execution_count": 3,
   "id": "63af6ac3",
   "metadata": {
    "execution": {
     "iopub.execute_input": "2025-07-15T15:26:45.886289Z",
     "iopub.status.busy": "2025-07-15T15:26:45.885919Z",
     "iopub.status.idle": "2025-07-15T15:26:45.933419Z",
     "shell.execute_reply": "2025-07-15T15:26:45.932604Z"
    },
    "papermill": {
     "duration": 0.056453,
     "end_time": "2025-07-15T15:26:45.935311",
     "exception": false,
     "start_time": "2025-07-15T15:26:45.878858",
     "status": "completed"
    },
    "tags": []
   },
   "outputs": [],
   "source": [
    "test_df=pd.read_csv('/kaggle/input/cirrhosis-prediction/test.csv')"
   ]
  },
  {
   "cell_type": "code",
   "execution_count": 4,
   "id": "772443be",
   "metadata": {
    "execution": {
     "iopub.execute_input": "2025-07-15T15:26:45.948873Z",
     "iopub.status.busy": "2025-07-15T15:26:45.948582Z",
     "iopub.status.idle": "2025-07-15T15:26:45.972691Z",
     "shell.execute_reply": "2025-07-15T15:26:45.971452Z"
    },
    "papermill": {
     "duration": 0.033714,
     "end_time": "2025-07-15T15:26:45.974771",
     "exception": false,
     "start_time": "2025-07-15T15:26:45.941057",
     "status": "completed"
    },
    "tags": []
   },
   "outputs": [
    {
     "name": "stdout",
     "output_type": "stream",
     "text": [
      "   id  N_Days             Drug      Age Sex Ascites Hepatomegaly Spiders  \\\n",
      "0   0  2527.0          Placebo  15265.0   F       N            Y       N   \n",
      "1   1  1581.0              NaN  24472.0   F     NaN          NaN     NaN   \n",
      "2   2  1119.0              NaN  19358.0   F     NaN          NaN     NaN   \n",
      "3   3  2692.0  D-penicillamine  15177.0   F       N            N       N   \n",
      "4   4  2022.0  D-penicillamine  22514.0   F       N            Y       Y   \n",
      "\n",
      "  Edema  Bilirubin  Cholesterol  Albumin  Copper  Alk_Phos   SGOT  \\\n",
      "0     N        2.3        472.0     3.54    73.0     936.0  97.00   \n",
      "1     N        0.6          NaN     3.06     NaN       NaN    NaN   \n",
      "2     N        0.6          NaN     3.81     NaN       NaN    NaN   \n",
      "3     N        1.1        268.0     3.61   150.0    1509.0  88.35   \n",
      "4     N        0.9        223.0     3.60    13.0    1062.0  55.80   \n",
      "\n",
      "   Tryglicerides  Platelets  Prothrombin  Stage Status  \n",
      "0          114.0      195.0          9.9    2.0      C  \n",
      "1            NaN      244.0         10.0    3.0      C  \n",
      "2            NaN      350.0          9.5    3.0      C  \n",
      "3          113.0      277.0          9.5    2.0      C  \n",
      "4          112.0      166.0         10.1    4.0      C  \n"
     ]
    }
   ],
   "source": [
    "import warnings\n",
    "warnings.filterwarnings(\"ignore\")\n",
    "print(df.head())"
   ]
  },
  {
   "cell_type": "code",
   "execution_count": 5,
   "id": "c1c34cbd",
   "metadata": {
    "execution": {
     "iopub.execute_input": "2025-07-15T15:26:45.988401Z",
     "iopub.status.busy": "2025-07-15T15:26:45.987980Z",
     "iopub.status.idle": "2025-07-15T15:26:46.063168Z",
     "shell.execute_reply": "2025-07-15T15:26:46.061974Z"
    },
    "papermill": {
     "duration": 0.084126,
     "end_time": "2025-07-15T15:26:46.065216",
     "exception": false,
     "start_time": "2025-07-15T15:26:45.981090",
     "status": "completed"
    },
    "tags": []
   },
   "outputs": [
    {
     "data": {
      "text/html": [
       "<div>\n",
       "<style scoped>\n",
       "    .dataframe tbody tr th:only-of-type {\n",
       "        vertical-align: middle;\n",
       "    }\n",
       "\n",
       "    .dataframe tbody tr th {\n",
       "        vertical-align: top;\n",
       "    }\n",
       "\n",
       "    .dataframe thead th {\n",
       "        text-align: right;\n",
       "    }\n",
       "</style>\n",
       "<table border=\"1\" class=\"dataframe\">\n",
       "  <thead>\n",
       "    <tr style=\"text-align: right;\">\n",
       "      <th></th>\n",
       "      <th>id</th>\n",
       "      <th>N_Days</th>\n",
       "      <th>Age</th>\n",
       "      <th>Bilirubin</th>\n",
       "      <th>Cholesterol</th>\n",
       "      <th>Albumin</th>\n",
       "      <th>Copper</th>\n",
       "      <th>Alk_Phos</th>\n",
       "      <th>SGOT</th>\n",
       "      <th>Tryglicerides</th>\n",
       "      <th>Platelets</th>\n",
       "      <th>Prothrombin</th>\n",
       "      <th>Stage</th>\n",
       "    </tr>\n",
       "  </thead>\n",
       "  <tbody>\n",
       "    <tr>\n",
       "      <th>count</th>\n",
       "      <td>15000.000000</td>\n",
       "      <td>15000.000000</td>\n",
       "      <td>15000.000000</td>\n",
       "      <td>15000.000000</td>\n",
       "      <td>6584.000000</td>\n",
       "      <td>15000.000000</td>\n",
       "      <td>8335.000000</td>\n",
       "      <td>8409.000000</td>\n",
       "      <td>8410.000000</td>\n",
       "      <td>6555.000000</td>\n",
       "      <td>14444.000000</td>\n",
       "      <td>14979.000000</td>\n",
       "      <td>15000.000000</td>\n",
       "    </tr>\n",
       "    <tr>\n",
       "      <th>mean</th>\n",
       "      <td>7499.500000</td>\n",
       "      <td>1973.555067</td>\n",
       "      <td>19337.723000</td>\n",
       "      <td>1.870249</td>\n",
       "      <td>327.094927</td>\n",
       "      <td>3.524000</td>\n",
       "      <td>75.159568</td>\n",
       "      <td>1647.834486</td>\n",
       "      <td>105.506270</td>\n",
       "      <td>111.687262</td>\n",
       "      <td>252.989621</td>\n",
       "      <td>10.634555</td>\n",
       "      <td>3.016933</td>\n",
       "    </tr>\n",
       "    <tr>\n",
       "      <th>std</th>\n",
       "      <td>4330.271354</td>\n",
       "      <td>1252.981613</td>\n",
       "      <td>3654.208627</td>\n",
       "      <td>2.752110</td>\n",
       "      <td>176.075668</td>\n",
       "      <td>0.377667</td>\n",
       "      <td>75.488596</td>\n",
       "      <td>1844.671645</td>\n",
       "      <td>49.712528</td>\n",
       "      <td>53.152605</td>\n",
       "      <td>93.444052</td>\n",
       "      <td>0.766079</td>\n",
       "      <td>0.879336</td>\n",
       "    </tr>\n",
       "    <tr>\n",
       "      <th>min</th>\n",
       "      <td>0.000000</td>\n",
       "      <td>3.000000</td>\n",
       "      <td>91.000000</td>\n",
       "      <td>0.150000</td>\n",
       "      <td>119.000000</td>\n",
       "      <td>1.960000</td>\n",
       "      <td>3.000000</td>\n",
       "      <td>2.750000</td>\n",
       "      <td>16.200000</td>\n",
       "      <td>11.000000</td>\n",
       "      <td>0.400000</td>\n",
       "      <td>1.900000</td>\n",
       "      <td>1.000000</td>\n",
       "    </tr>\n",
       "    <tr>\n",
       "      <th>25%</th>\n",
       "      <td>3749.750000</td>\n",
       "      <td>1095.000000</td>\n",
       "      <td>16728.000000</td>\n",
       "      <td>0.600000</td>\n",
       "      <td>242.000000</td>\n",
       "      <td>3.290000</td>\n",
       "      <td>31.000000</td>\n",
       "      <td>721.000000</td>\n",
       "      <td>71.000000</td>\n",
       "      <td>78.000000</td>\n",
       "      <td>182.000000</td>\n",
       "      <td>10.100000</td>\n",
       "      <td>2.000000</td>\n",
       "    </tr>\n",
       "    <tr>\n",
       "      <th>50%</th>\n",
       "      <td>7499.500000</td>\n",
       "      <td>1831.000000</td>\n",
       "      <td>19722.000000</td>\n",
       "      <td>0.900000</td>\n",
       "      <td>280.000000</td>\n",
       "      <td>3.580000</td>\n",
       "      <td>52.000000</td>\n",
       "      <td>1070.000000</td>\n",
       "      <td>97.650000</td>\n",
       "      <td>99.000000</td>\n",
       "      <td>249.000000</td>\n",
       "      <td>10.600000</td>\n",
       "      <td>3.000000</td>\n",
       "    </tr>\n",
       "    <tr>\n",
       "      <th>75%</th>\n",
       "      <td>11249.250000</td>\n",
       "      <td>2644.000000</td>\n",
       "      <td>22388.000000</td>\n",
       "      <td>1.800000</td>\n",
       "      <td>364.000000</td>\n",
       "      <td>3.770000</td>\n",
       "      <td>89.000000</td>\n",
       "      <td>1653.000000</td>\n",
       "      <td>130.200000</td>\n",
       "      <td>134.000000</td>\n",
       "      <td>311.000000</td>\n",
       "      <td>11.000000</td>\n",
       "      <td>4.000000</td>\n",
       "    </tr>\n",
       "    <tr>\n",
       "      <th>max</th>\n",
       "      <td>14999.000000</td>\n",
       "      <td>27220.000000</td>\n",
       "      <td>35463.000000</td>\n",
       "      <td>28.000000</td>\n",
       "      <td>1868.000000</td>\n",
       "      <td>4.700000</td>\n",
       "      <td>608.000000</td>\n",
       "      <td>24201.200000</td>\n",
       "      <td>601.250000</td>\n",
       "      <td>608.000000</td>\n",
       "      <td>721.000000</td>\n",
       "      <td>18.000000</td>\n",
       "      <td>4.000000</td>\n",
       "    </tr>\n",
       "  </tbody>\n",
       "</table>\n",
       "</div>"
      ],
      "text/plain": [
       "                 id        N_Days           Age     Bilirubin  Cholesterol  \\\n",
       "count  15000.000000  15000.000000  15000.000000  15000.000000  6584.000000   \n",
       "mean    7499.500000   1973.555067  19337.723000      1.870249   327.094927   \n",
       "std     4330.271354   1252.981613   3654.208627      2.752110   176.075668   \n",
       "min        0.000000      3.000000     91.000000      0.150000   119.000000   \n",
       "25%     3749.750000   1095.000000  16728.000000      0.600000   242.000000   \n",
       "50%     7499.500000   1831.000000  19722.000000      0.900000   280.000000   \n",
       "75%    11249.250000   2644.000000  22388.000000      1.800000   364.000000   \n",
       "max    14999.000000  27220.000000  35463.000000     28.000000  1868.000000   \n",
       "\n",
       "            Albumin       Copper      Alk_Phos         SGOT  Tryglicerides  \\\n",
       "count  15000.000000  8335.000000   8409.000000  8410.000000    6555.000000   \n",
       "mean       3.524000    75.159568   1647.834486   105.506270     111.687262   \n",
       "std        0.377667    75.488596   1844.671645    49.712528      53.152605   \n",
       "min        1.960000     3.000000      2.750000    16.200000      11.000000   \n",
       "25%        3.290000    31.000000    721.000000    71.000000      78.000000   \n",
       "50%        3.580000    52.000000   1070.000000    97.650000      99.000000   \n",
       "75%        3.770000    89.000000   1653.000000   130.200000     134.000000   \n",
       "max        4.700000   608.000000  24201.200000   601.250000     608.000000   \n",
       "\n",
       "          Platelets   Prothrombin         Stage  \n",
       "count  14444.000000  14979.000000  15000.000000  \n",
       "mean     252.989621     10.634555      3.016933  \n",
       "std       93.444052      0.766079      0.879336  \n",
       "min        0.400000      1.900000      1.000000  \n",
       "25%      182.000000     10.100000      2.000000  \n",
       "50%      249.000000     10.600000      3.000000  \n",
       "75%      311.000000     11.000000      4.000000  \n",
       "max      721.000000     18.000000      4.000000  "
      ]
     },
     "execution_count": 5,
     "metadata": {},
     "output_type": "execute_result"
    }
   ],
   "source": [
    "df.describe()"
   ]
  },
  {
   "cell_type": "code",
   "execution_count": 6,
   "id": "a3b71831",
   "metadata": {
    "execution": {
     "iopub.execute_input": "2025-07-15T15:26:46.080026Z",
     "iopub.status.busy": "2025-07-15T15:26:46.079720Z",
     "iopub.status.idle": "2025-07-15T15:26:46.103685Z",
     "shell.execute_reply": "2025-07-15T15:26:46.102607Z"
    },
    "papermill": {
     "duration": 0.033314,
     "end_time": "2025-07-15T15:26:46.105415",
     "exception": false,
     "start_time": "2025-07-15T15:26:46.072101",
     "status": "completed"
    },
    "tags": []
   },
   "outputs": [
    {
     "data": {
      "text/html": [
       "<div>\n",
       "<style scoped>\n",
       "    .dataframe tbody tr th:only-of-type {\n",
       "        vertical-align: middle;\n",
       "    }\n",
       "\n",
       "    .dataframe tbody tr th {\n",
       "        vertical-align: top;\n",
       "    }\n",
       "\n",
       "    .dataframe thead th {\n",
       "        text-align: right;\n",
       "    }\n",
       "</style>\n",
       "<table border=\"1\" class=\"dataframe\">\n",
       "  <thead>\n",
       "    <tr style=\"text-align: right;\">\n",
       "      <th></th>\n",
       "      <th>id</th>\n",
       "      <th>N_Days</th>\n",
       "      <th>Drug</th>\n",
       "      <th>Age</th>\n",
       "      <th>Sex</th>\n",
       "      <th>Ascites</th>\n",
       "      <th>Hepatomegaly</th>\n",
       "      <th>Spiders</th>\n",
       "      <th>Edema</th>\n",
       "      <th>Bilirubin</th>\n",
       "      <th>Cholesterol</th>\n",
       "      <th>Albumin</th>\n",
       "      <th>Copper</th>\n",
       "      <th>Alk_Phos</th>\n",
       "      <th>SGOT</th>\n",
       "      <th>Tryglicerides</th>\n",
       "      <th>Platelets</th>\n",
       "      <th>Prothrombin</th>\n",
       "      <th>Stage</th>\n",
       "      <th>Status</th>\n",
       "    </tr>\n",
       "  </thead>\n",
       "  <tbody>\n",
       "    <tr>\n",
       "      <th>4506</th>\n",
       "      <td>4506</td>\n",
       "      <td>207.0</td>\n",
       "      <td>D-penicillamine</td>\n",
       "      <td>19544.0</td>\n",
       "      <td>M</td>\n",
       "      <td>N</td>\n",
       "      <td>4.07</td>\n",
       "      <td>N</td>\n",
       "      <td>N</td>\n",
       "      <td>5.1</td>\n",
       "      <td>NaN</td>\n",
       "      <td>2.1</td>\n",
       "      <td>234.0</td>\n",
       "      <td>601.0</td>\n",
       "      <td>135.0</td>\n",
       "      <td>NaN</td>\n",
       "      <td>207.0</td>\n",
       "      <td>12.1</td>\n",
       "      <td>4.0</td>\n",
       "      <td>D</td>\n",
       "    </tr>\n",
       "  </tbody>\n",
       "</table>\n",
       "</div>"
      ],
      "text/plain": [
       "        id  N_Days             Drug      Age Sex Ascites Hepatomegaly Spiders  \\\n",
       "4506  4506   207.0  D-penicillamine  19544.0   M       N         4.07       N   \n",
       "\n",
       "     Edema  Bilirubin  Cholesterol  Albumin  Copper  Alk_Phos   SGOT  \\\n",
       "4506     N        5.1          NaN      2.1   234.0     601.0  135.0   \n",
       "\n",
       "      Tryglicerides  Platelets  Prothrombin  Stage Status  \n",
       "4506            NaN      207.0         12.1    4.0      D  "
      ]
     },
     "execution_count": 6,
     "metadata": {},
     "output_type": "execute_result"
    }
   ],
   "source": [
    "# Inspect those rows with 4.07\n",
    "df[df['Hepatomegaly'] == '4.07']"
   ]
  },
  {
   "cell_type": "code",
   "execution_count": 7,
   "id": "3105edef",
   "metadata": {
    "execution": {
     "iopub.execute_input": "2025-07-15T15:26:46.121829Z",
     "iopub.status.busy": "2025-07-15T15:26:46.121481Z",
     "iopub.status.idle": "2025-07-15T15:26:46.143470Z",
     "shell.execute_reply": "2025-07-15T15:26:46.142391Z"
    },
    "papermill": {
     "duration": 0.031861,
     "end_time": "2025-07-15T15:26:46.145188",
     "exception": false,
     "start_time": "2025-07-15T15:26:46.113327",
     "status": "completed"
    },
    "tags": []
   },
   "outputs": [
    {
     "name": "stdout",
     "output_type": "stream",
     "text": [
      "\n",
      "Unique values in 'Drug':\n",
      "['Placebo' 'D-penicillamine']\n",
      "\n",
      "Unique values in 'Sex':\n",
      "['F' 'M']\n",
      "\n",
      "Unique values in 'Ascites':\n",
      "['N' 'Y']\n",
      "\n",
      "Unique values in 'Hepatomegaly':\n",
      "['Y' 'N' '4.07']\n",
      "\n",
      "Unique values in 'Spiders':\n",
      "['N' 'Y']\n",
      "\n",
      "Unique values in 'Edema':\n",
      "['N' 'S' 'Y']\n",
      "\n",
      "Unique values in 'Status':\n",
      "['C' 'D' 'CL']\n"
     ]
    }
   ],
   "source": [
    "nominal_cols=['Drug','Sex','Ascites','Hepatomegaly','Spiders','Edema','Status']\n",
    "for col in nominal_cols:\n",
    "    print(f\"\\nUnique values in '{col}':\")\n",
    "    print(df[col].dropna().unique())"
   ]
  },
  {
   "cell_type": "code",
   "execution_count": 8,
   "id": "47121b82",
   "metadata": {
    "execution": {
     "iopub.execute_input": "2025-07-15T15:26:46.158988Z",
     "iopub.status.busy": "2025-07-15T15:26:46.158671Z",
     "iopub.status.idle": "2025-07-15T15:26:46.190630Z",
     "shell.execute_reply": "2025-07-15T15:26:46.189656Z"
    },
    "papermill": {
     "duration": 0.040689,
     "end_time": "2025-07-15T15:26:46.192274",
     "exception": false,
     "start_time": "2025-07-15T15:26:46.151585",
     "status": "completed"
    },
    "tags": []
   },
   "outputs": [],
   "source": [
    "df['Hepatomegaly'] = df['Hepatomegaly'].replace('4.07', np.nan)\n",
    "df['Hepatomegaly'] = df['Hepatomegaly'].map({'N': 0, 'Y': 1})\n",
    "df['Drug'] = df['Drug'].map({'Placebo': 0, 'D-penicillamine': 1})\n",
    "df['Sex'] = df['Sex'].map({'F': 0, 'M': 1})\n",
    "df['Ascites'] = df['Ascites'].map({'N': 0, 'Y': 1})\n",
    "df['Spiders'] = df['Spiders'].map({'N': 0, 'Y': 1})\n",
    "df['Edema'] = df['Edema'].map({'N': 0, 'S': 1, 'Y': 2})\n",
    "df = pd.get_dummies(df, columns=['Status'], prefix='Status')"
   ]
  },
  {
   "cell_type": "code",
   "execution_count": 9,
   "id": "133dfe5e",
   "metadata": {
    "execution": {
     "iopub.execute_input": "2025-07-15T15:26:46.207933Z",
     "iopub.status.busy": "2025-07-15T15:26:46.207040Z",
     "iopub.status.idle": "2025-07-15T15:26:46.228621Z",
     "shell.execute_reply": "2025-07-15T15:26:46.227543Z"
    },
    "papermill": {
     "duration": 0.031086,
     "end_time": "2025-07-15T15:26:46.230632",
     "exception": false,
     "start_time": "2025-07-15T15:26:46.199546",
     "status": "completed"
    },
    "tags": []
   },
   "outputs": [
    {
     "name": "stdout",
     "output_type": "stream",
     "text": [
      "<class 'pandas.core.frame.DataFrame'>\n",
      "RangeIndex: 15000 entries, 0 to 14999\n",
      "Data columns (total 22 columns):\n",
      " #   Column         Non-Null Count  Dtype  \n",
      "---  ------         --------------  -----  \n",
      " 0   id             15000 non-null  int64  \n",
      " 1   N_Days         15000 non-null  float64\n",
      " 2   Drug           8415 non-null   float64\n",
      " 3   Age            15000 non-null  float64\n",
      " 4   Sex            15000 non-null  int64  \n",
      " 5   Ascites        8424 non-null   float64\n",
      " 6   Hepatomegaly   8413 non-null   float64\n",
      " 7   Spiders        8414 non-null   float64\n",
      " 8   Edema          15000 non-null  int64  \n",
      " 9   Bilirubin      15000 non-null  float64\n",
      " 10  Cholesterol    6584 non-null   float64\n",
      " 11  Albumin        15000 non-null  float64\n",
      " 12  Copper         8335 non-null   float64\n",
      " 13  Alk_Phos       8409 non-null   float64\n",
      " 14  SGOT           8410 non-null   float64\n",
      " 15  Tryglicerides  6555 non-null   float64\n",
      " 16  Platelets      14444 non-null  float64\n",
      " 17  Prothrombin    14979 non-null  float64\n",
      " 18  Stage          15000 non-null  float64\n",
      " 19  Status_C       15000 non-null  bool   \n",
      " 20  Status_CL      15000 non-null  bool   \n",
      " 21  Status_D       15000 non-null  bool   \n",
      "dtypes: bool(3), float64(16), int64(3)\n",
      "memory usage: 2.2 MB\n"
     ]
    }
   ],
   "source": [
    "df.info()"
   ]
  },
  {
   "cell_type": "code",
   "execution_count": 10,
   "id": "149b4935",
   "metadata": {
    "execution": {
     "iopub.execute_input": "2025-07-15T15:26:46.246786Z",
     "iopub.status.busy": "2025-07-15T15:26:46.246005Z",
     "iopub.status.idle": "2025-07-15T15:26:46.304425Z",
     "shell.execute_reply": "2025-07-15T15:26:46.303548Z"
    },
    "papermill": {
     "duration": 0.068419,
     "end_time": "2025-07-15T15:26:46.306006",
     "exception": false,
     "start_time": "2025-07-15T15:26:46.237587",
     "status": "completed"
    },
    "tags": []
   },
   "outputs": [
    {
     "data": {
      "text/plain": [
       "id               0.000000\n",
       "N_Days           4.658358\n",
       "Drug            -0.111661\n",
       "Age             -0.288314\n",
       "Sex              4.518106\n",
       "Ascites          4.371117\n",
       "Hepatomegaly     0.202419\n",
       "Spiders          1.485304\n",
       "Edema            3.970258\n",
       "Bilirubin        4.041833\n",
       "Cholesterol      4.570320\n",
       "Albumin         -0.332126\n",
       "Copper           3.155200\n",
       "Alk_Phos         3.311105\n",
       "SGOT             1.845197\n",
       "Tryglicerides    2.558042\n",
       "Platelets        0.561408\n",
       "Prothrombin      1.717930\n",
       "Stage           -0.488897\n",
       "Status_C        -0.765591\n",
       "Status_CL        6.033525\n",
       "Status_D         0.894565\n",
       "dtype: float64"
      ]
     },
     "execution_count": 10,
     "metadata": {},
     "output_type": "execute_result"
    }
   ],
   "source": [
    "# Using pandas\n",
    "df.skew(numeric_only=True)  # Shows skewness for each numeric column\n"
   ]
  },
  {
   "cell_type": "code",
   "execution_count": 11,
   "id": "795f4f1f",
   "metadata": {
    "execution": {
     "iopub.execute_input": "2025-07-15T15:26:46.320330Z",
     "iopub.status.busy": "2025-07-15T15:26:46.319949Z",
     "iopub.status.idle": "2025-07-15T15:26:48.221935Z",
     "shell.execute_reply": "2025-07-15T15:26:48.220901Z"
    },
    "papermill": {
     "duration": 1.911419,
     "end_time": "2025-07-15T15:26:48.224026",
     "exception": false,
     "start_time": "2025-07-15T15:26:46.312607",
     "status": "completed"
    },
    "tags": []
   },
   "outputs": [],
   "source": [
    "from sklearn.preprocessing import PowerTransformer\n",
    "skew_values = df.skew(numeric_only=True)\n",
    "highly_skewed_cols=skew_values[skew_values.abs()>1].index.tolist()\n",
    "pt = PowerTransformer(method='yeo-johnson')  # Works with 0 and negative values\n",
    "df_transformed = df.copy()\n",
    "df_transformed[highly_skewed_cols] = pt.fit_transform(df[highly_skewed_cols])"
   ]
  },
  {
   "cell_type": "code",
   "execution_count": 12,
   "id": "5ffd318a",
   "metadata": {
    "execution": {
     "iopub.execute_input": "2025-07-15T15:26:48.238695Z",
     "iopub.status.busy": "2025-07-15T15:26:48.238124Z",
     "iopub.status.idle": "2025-07-15T15:26:48.252707Z",
     "shell.execute_reply": "2025-07-15T15:26:48.251653Z"
    },
    "papermill": {
     "duration": 0.023613,
     "end_time": "2025-07-15T15:26:48.254376",
     "exception": false,
     "start_time": "2025-07-15T15:26:48.230763",
     "status": "completed"
    },
    "tags": []
   },
   "outputs": [],
   "source": [
    "df_transformed.skew(numeric_only=True) \n",
    "df=df_transformed"
   ]
  },
  {
   "cell_type": "code",
   "execution_count": 13,
   "id": "5d7c661b",
   "metadata": {
    "execution": {
     "iopub.execute_input": "2025-07-15T15:26:48.268774Z",
     "iopub.status.busy": "2025-07-15T15:26:48.268415Z",
     "iopub.status.idle": "2025-07-15T15:26:48.278200Z",
     "shell.execute_reply": "2025-07-15T15:26:48.277082Z"
    },
    "papermill": {
     "duration": 0.018956,
     "end_time": "2025-07-15T15:26:48.279880",
     "exception": false,
     "start_time": "2025-07-15T15:26:48.260924",
     "status": "completed"
    },
    "tags": []
   },
   "outputs": [
    {
     "name": "stdout",
     "output_type": "stream",
     "text": [
      "Columns with missing values:\n",
      "Drug             6585\n",
      "Ascites          6576\n",
      "Hepatomegaly     6587\n",
      "Spiders          6586\n",
      "Cholesterol      8416\n",
      "Copper           6665\n",
      "Alk_Phos         6591\n",
      "SGOT             6590\n",
      "Tryglicerides    8445\n",
      "Platelets         556\n",
      "Prothrombin        21\n",
      "dtype: int64\n"
     ]
    }
   ],
   "source": [
    "# Shows count of missing values per column\n",
    "missing_counts = df.isnull().sum()\n",
    "\n",
    "# Shows only columns with at least 1 missing value\n",
    "missing_cols = missing_counts[missing_counts > 0]\n",
    "\n",
    "print(\"Columns with missing values:\")\n",
    "print(missing_cols)\n"
   ]
  },
  {
   "cell_type": "code",
   "execution_count": 14,
   "id": "a3e94028",
   "metadata": {
    "execution": {
     "iopub.execute_input": "2025-07-15T15:26:48.294830Z",
     "iopub.status.busy": "2025-07-15T15:26:48.294440Z",
     "iopub.status.idle": "2025-07-15T15:26:49.604521Z",
     "shell.execute_reply": "2025-07-15T15:26:49.603559Z"
    },
    "papermill": {
     "duration": 1.319777,
     "end_time": "2025-07-15T15:26:49.606593",
     "exception": false,
     "start_time": "2025-07-15T15:26:48.286816",
     "status": "completed"
    },
    "tags": []
   },
   "outputs": [
    {
     "data": {
      "text/plain": [
       "<Axes: >"
      ]
     },
     "execution_count": 14,
     "metadata": {},
     "output_type": "execute_result"
    },
    {
     "data": {
      "image/png": "[encoded data removed]",
      "text/plain": [
       "<Figure size 1000x400 with 2 Axes>"
      ]
     },
     "metadata": {},
     "output_type": "display_data"
    }
   ],
   "source": [
    "import missingno as msno\n",
    "msno.matrix(df,figsize=(10,4))"
   ]
  },
  {
   "cell_type": "code",
   "execution_count": 15,
   "id": "5fbbc5ae",
   "metadata": {
    "execution": {
     "iopub.execute_input": "2025-07-15T15:26:49.624580Z",
     "iopub.status.busy": "2025-07-15T15:26:49.624019Z",
     "iopub.status.idle": "2025-07-15T15:26:49.629493Z",
     "shell.execute_reply": "2025-07-15T15:26:49.628480Z"
    },
    "papermill": {
     "duration": 0.015874,
     "end_time": "2025-07-15T15:26:49.630955",
     "exception": false,
     "start_time": "2025-07-15T15:26:49.615081",
     "status": "completed"
    },
    "tags": []
   },
   "outputs": [
    {
     "name": "stdout",
     "output_type": "stream",
     "text": [
      "0.14.4\n"
     ]
    }
   ],
   "source": [
    "import statsmodels\n",
    "print(statsmodels.__version__)\n"
   ]
  },
  {
   "cell_type": "code",
   "execution_count": 16,
   "id": "141d7d73",
   "metadata": {
    "execution": {
     "iopub.execute_input": "2025-07-15T15:26:49.648015Z",
     "iopub.status.busy": "2025-07-15T15:26:49.647686Z",
     "iopub.status.idle": "2025-07-15T15:26:49.657791Z",
     "shell.execute_reply": "2025-07-15T15:26:49.656818Z"
    },
    "papermill": {
     "duration": 0.020481,
     "end_time": "2025-07-15T15:26:49.659393",
     "exception": false,
     "start_time": "2025-07-15T15:26:49.638912",
     "status": "completed"
    },
    "tags": []
   },
   "outputs": [],
   "source": [
    "import pandas as pd\n",
    "import numpy as np\n",
    "from scipy.stats import chi2\n",
    "\n",
    "def little_mcar_test(df):\n",
    "    \"\"\"\n",
    "    Manual implementation of Little's MCAR test for numeric data.\n",
    "    \"\"\"\n",
    "    df = df.copy()\n",
    "    df = df.dropna(axis=1, how='all')  # drop columns with all missing\n",
    "    df = df.dropna(axis=0, how='all')  # drop rows with all missing\n",
    "\n",
    "    patterns = df.isnull().astype(int)\n",
    "    pattern_groups = patterns.groupby(list(df.columns)).size().reset_index().rename(columns={0: 'count'})\n",
    "    \n",
    "    mu_hat = df.mean()\n",
    "    cov_hat = df.cov()\n",
    "\n",
    "    chi_square = 0\n",
    "    total_count = 0\n",
    "\n",
    "    for i, row in pattern_groups.iterrows():\n",
    "        cols_present = [col for col, miss in zip(df.columns, row[:-1]) if miss == 0]\n",
    "        sub_df = df[cols_present].dropna()\n",
    "        n_g = row['count']\n",
    "        if len(cols_present) == 0 or len(sub_df) == 0:\n",
    "            continue\n",
    "        mu_g = sub_df.mean()\n",
    "        diff = mu_g - mu_hat[cols_present]\n",
    "        cov_g = cov_hat.loc[cols_present, cols_present]\n",
    "        try:\n",
    "            inv_cov = np.linalg.inv(cov_g)\n",
    "            chi_g = n_g * np.dot(np.dot(diff, inv_cov), diff.T)\n",
    "            chi_square += chi_g\n",
    "            total_count += n_g\n",
    "        except np.linalg.LinAlgError:\n",
    "            pass  # skip singular matrices\n",
    "\n",
    "    dof = pattern_groups.shape[0] - 1\n",
    "    p_value = 1 - chi2.cdf(chi_square, dof)\n",
    "\n",
    "    return chi_square, dof, p_value\n"
   ]
  },
  {
   "cell_type": "code",
   "execution_count": 17,
   "id": "79213beb",
   "metadata": {
    "execution": {
     "iopub.execute_input": "2025-07-15T15:26:49.676606Z",
     "iopub.status.busy": "2025-07-15T15:26:49.676277Z",
     "iopub.status.idle": "2025-07-15T15:26:49.849763Z",
     "shell.execute_reply": "2025-07-15T15:26:49.848591Z"
    },
    "papermill": {
     "duration": 0.18417,
     "end_time": "2025-07-15T15:26:49.851706",
     "exception": false,
     "start_time": "2025-07-15T15:26:49.667536",
     "status": "completed"
    },
    "tags": []
   },
   "outputs": [
    {
     "name": "stdout",
     "output_type": "stream",
     "text": [
      "Little’s MCAR test: Chi2 = 257.94, dof = 29, p = 0.0000\n"
     ]
    }
   ],
   "source": [
    "# Select only numeric columns with missing values\n",
    "df_missing = df.select_dtypes(include=['float64', 'int64']).copy()\n",
    "df_missing = df_missing.loc[:, df_missing.isnull().any()]\n",
    "\n",
    "chi2_stat, dof, p = little_mcar_test(df_missing)\n",
    "print(f\"Little’s MCAR test: Chi2 = {chi2_stat:.2f}, dof = {dof}, p = {p:.4f}\")\n"
   ]
  },
  {
   "cell_type": "code",
   "execution_count": 18,
   "id": "dbcea81c",
   "metadata": {
    "execution": {
     "iopub.execute_input": "2025-07-15T15:26:49.869715Z",
     "iopub.status.busy": "2025-07-15T15:26:49.869301Z",
     "iopub.status.idle": "2025-07-15T15:26:51.941571Z",
     "shell.execute_reply": "2025-07-15T15:26:51.938316Z"
    },
    "papermill": {
     "duration": 2.084558,
     "end_time": "2025-07-15T15:26:51.944542",
     "exception": false,
     "start_time": "2025-07-15T15:26:49.859984",
     "status": "completed"
    },
    "tags": []
   },
   "outputs": [],
   "source": [
    "from sklearn.experimental import enable_iterative_imputer\n",
    "from sklearn.impute import IterativeImputer\n",
    "\n",
    "imp = IterativeImputer(random_state=0)\n",
    "df_imputed = df.copy()\n",
    "df_imputed[df.select_dtypes(include='number').columns] = imp.fit_transform(df.select_dtypes(include='number'))\n"
   ]
  },
  {
   "cell_type": "code",
   "execution_count": 19,
   "id": "3b054554",
   "metadata": {
    "execution": {
     "iopub.execute_input": "2025-07-15T15:26:51.978837Z",
     "iopub.status.busy": "2025-07-15T15:26:51.977124Z",
     "iopub.status.idle": "2025-07-15T15:26:51.990211Z",
     "shell.execute_reply": "2025-07-15T15:26:51.989384Z"
    },
    "papermill": {
     "duration": 0.028997,
     "end_time": "2025-07-15T15:26:51.992084",
     "exception": false,
     "start_time": "2025-07-15T15:26:51.963087",
     "status": "completed"
    },
    "tags": []
   },
   "outputs": [
    {
     "name": "stdout",
     "output_type": "stream",
     "text": [
      "id               0\n",
      "N_Days           0\n",
      "Drug             0\n",
      "Age              0\n",
      "Sex              0\n",
      "Ascites          0\n",
      "Hepatomegaly     0\n",
      "Spiders          0\n",
      "Edema            0\n",
      "Bilirubin        0\n",
      "Cholesterol      0\n",
      "Albumin          0\n",
      "Copper           0\n",
      "Alk_Phos         0\n",
      "SGOT             0\n",
      "Tryglicerides    0\n",
      "Platelets        0\n",
      "Prothrombin      0\n",
      "Stage            0\n",
      "Status_C         0\n",
      "Status_CL        0\n",
      "Status_D         0\n",
      "dtype: int64\n"
     ]
    }
   ],
   "source": [
    "print(df_imputed.isnull().sum())"
   ]
  },
  {
   "cell_type": "code",
   "execution_count": 20,
   "id": "717e4f81",
   "metadata": {
    "execution": {
     "iopub.execute_input": "2025-07-15T15:26:52.022496Z",
     "iopub.status.busy": "2025-07-15T15:26:52.022116Z",
     "iopub.status.idle": "2025-07-15T15:26:52.041552Z",
     "shell.execute_reply": "2025-07-15T15:26:52.040521Z"
    },
    "papermill": {
     "duration": 0.037232,
     "end_time": "2025-07-15T15:26:52.043249",
     "exception": false,
     "start_time": "2025-07-15T15:26:52.006017",
     "status": "completed"
    },
    "tags": []
   },
   "outputs": [
    {
     "name": "stdout",
     "output_type": "stream",
     "text": [
      "    id    N_Days      Drug      Age       Sex   Ascites  Hepatomegaly  \\\n",
      "0  0.0  0.592692  0.000000  15265.0 -0.211456 -0.217946      1.000000   \n",
      "1  1.0 -0.185225  0.560675  24472.0 -0.211456 -0.089588      0.410007   \n",
      "2  2.0 -0.655993  0.521675  19358.0 -0.211456 -0.389218      0.291790   \n",
      "\n",
      "    Spiders     Edema  Bilirubin  ...    Copper  Alk_Phos      SGOT  \\\n",
      "0 -0.503007 -0.284337   1.139439  ...  0.420277 -0.329712  0.046187   \n",
      "1 -0.159946 -0.284337  -0.998691  ... -0.414763 -0.284465 -0.437407   \n",
      "2 -0.378158 -0.284337  -0.998691  ... -0.407170 -0.285600 -0.450677   \n",
      "\n",
      "   Tryglicerides  Platelets  Prothrombin  Stage  Status_C  Status_CL  Status_D  \n",
      "0       0.330083      195.0    -0.994655    2.0      True  -0.161437     False  \n",
      "1      -0.126799      244.0    -0.848421    3.0      True  -0.161437     False  \n",
      "2      -0.020922      350.0    -1.597270    3.0      True  -0.161437     False  \n",
      "\n",
      "[3 rows x 22 columns]\n"
     ]
    }
   ],
   "source": [
    "import warnings\n",
    "warnings.filterwarnings(\"ignore\")\n",
    "print(df_imputed.head(3))"
   ]
  },
  {
   "cell_type": "code",
   "execution_count": 21,
   "id": "020c7d3f",
   "metadata": {
    "execution": {
     "iopub.execute_input": "2025-07-15T15:26:52.060931Z",
     "iopub.status.busy": "2025-07-15T15:26:52.060639Z",
     "iopub.status.idle": "2025-07-15T15:26:52.072596Z",
     "shell.execute_reply": "2025-07-15T15:26:52.071606Z"
    },
    "papermill": {
     "duration": 0.022621,
     "end_time": "2025-07-15T15:26:52.074198",
     "exception": false,
     "start_time": "2025-07-15T15:26:52.051577",
     "status": "completed"
    },
    "tags": []
   },
   "outputs": [],
   "source": [
    "# 🔹 Step 0: Recreate target column from one-hot encoding\n",
    "df['Status'] = np.argmax(df[['Status_C', 'Status_CL', 'Status_D']].values, axis=1)\n",
    "\n",
    "# 🔹 Step 1: Define X and y\n",
    "X = df.drop(['id', 'Status', 'Status_C', 'Status_CL', 'Status_D'], axis=1)\n",
    "y = df['Status']\n"
   ]
  },
  {
   "cell_type": "code",
   "execution_count": 22,
   "id": "5c2f2f24",
   "metadata": {
    "execution": {
     "iopub.execute_input": "2025-07-15T15:26:52.092811Z",
     "iopub.status.busy": "2025-07-15T15:26:52.092460Z",
     "iopub.status.idle": "2025-07-15T15:26:55.387745Z",
     "shell.execute_reply": "2025-07-15T15:26:55.386406Z"
    },
    "papermill": {
     "duration": 3.306349,
     "end_time": "2025-07-15T15:26:55.389374",
     "exception": false,
     "start_time": "2025-07-15T15:26:52.083025",
     "status": "completed"
    },
    "tags": []
   },
   "outputs": [
    {
     "name": "stdout",
     "output_type": "stream",
     "text": [
      "[0]\tvalidation_0-mlogloss:1.06911\n",
      "[50]\tvalidation_0-mlogloss:0.62816\n",
      "[100]\tvalidation_0-mlogloss:0.56133\n",
      "[150]\tvalidation_0-mlogloss:0.53109\n",
      "[200]\tvalidation_0-mlogloss:0.51248\n",
      "[250]\tvalidation_0-mlogloss:0.49795\n",
      "[300]\tvalidation_0-mlogloss:0.48389\n",
      "[350]\tvalidation_0-mlogloss:0.47158\n",
      "[400]\tvalidation_0-mlogloss:0.46282\n",
      "[450]\tvalidation_0-mlogloss:0.45460\n",
      "[499]\tvalidation_0-mlogloss:0.44880\n"
     ]
    },
    {
     "data": {
      "text/html": [
       "<style>#sk-container-id-1 {color: black;background-color: white;}#sk-container-id-1 pre{padding: 0;}#sk-container-id-1 div.sk-toggleable {background-color: white;}#sk-container-id-1 label.sk-toggleable__label {cursor: pointer;display: block;width: 100%;margin-bottom: 0;padding: 0.3em;box-sizing: border-box;text-align: center;}#sk-container-id-1 label.sk-toggleable__label-arrow:before {content: \"▸\";float: left;margin-right: 0.25em;color: #696969;}#sk-container-id-1 label.sk-toggleable__label-arrow:hover:before {color: black;}#sk-container-id-1 div.sk-estimator:hover label.sk-toggleable__label-arrow:before {color: black;}#sk-container-id-1 div.sk-toggleable__content {max-height: 0;max-width: 0;overflow: hidden;text-align: left;background-color: #f0f8ff;}#sk-container-id-1 div.sk-toggleable__content pre {margin: 0.2em;color: black;border-radius: 0.25em;background-color: #f0f8ff;}#sk-container-id-1 input.sk-toggleable__control:checked~div.sk-toggleable__content {max-height: 200px;max-width: 100%;overflow: auto;}#sk-container-id-1 input.sk-toggleable__control:checked~label.sk-toggleable__label-arrow:before {content: \"▾\";}#sk-container-id-1 div.sk-estimator input.sk-toggleable__control:checked~label.sk-toggleable__label {background-color: #d4ebff;}#sk-container-id-1 div.sk-label input.sk-toggleable__control:checked~label.sk-toggleable__label {background-color: #d4ebff;}#sk-container-id-1 input.sk-hidden--visually {border: 0;clip: rect(1px 1px 1px 1px);clip: rect(1px, 1px, 1px, 1px);height: 1px;margin: -1px;overflow: hidden;padding: 0;position: absolute;width: 1px;}#sk-container-id-1 div.sk-estimator {font-family: monospace;background-color: #f0f8ff;border: 1px dotted black;border-radius: 0.25em;box-sizing: border-box;margin-bottom: 0.5em;}#sk-container-id-1 div.sk-estimator:hover {background-color: #d4ebff;}#sk-container-id-1 div.sk-parallel-item::after {content: \"\";width: 100%;border-bottom: 1px solid gray;flex-grow: 1;}#sk-container-id-1 div.sk-label:hover label.sk-toggleable__label {background-color: #d4ebff;}#sk-container-id-1 div.sk-serial::before {content: \"\";position: absolute;border-left: 1px solid gray;box-sizing: border-box;top: 0;bottom: 0;left: 50%;z-index: 0;}#sk-container-id-1 div.sk-serial {display: flex;flex-direction: column;align-items: center;background-color: white;padding-right: 0.2em;padding-left: 0.2em;position: relative;}#sk-container-id-1 div.sk-item {position: relative;z-index: 1;}#sk-container-id-1 div.sk-parallel {display: flex;align-items: stretch;justify-content: center;background-color: white;position: relative;}#sk-container-id-1 div.sk-item::before, #sk-container-id-1 div.sk-parallel-item::before {content: \"\";position: absolute;border-left: 1px solid gray;box-sizing: border-box;top: 0;bottom: 0;left: 50%;z-index: -1;}#sk-container-id-1 div.sk-parallel-item {display: flex;flex-direction: column;z-index: 1;position: relative;background-color: white;}#sk-container-id-1 div.sk-parallel-item:first-child::after {align-self: flex-end;width: 50%;}#sk-container-id-1 div.sk-parallel-item:last-child::after {align-self: flex-start;width: 50%;}#sk-container-id-1 div.sk-parallel-item:only-child::after {width: 0;}#sk-container-id-1 div.sk-dashed-wrapped {border: 1px dashed gray;margin: 0 0.4em 0.5em 0.4em;box-sizing: border-box;padding-bottom: 0.4em;background-color: white;}#sk-container-id-1 div.sk-label label {font-family: monospace;font-weight: bold;display: inline-block;line-height: 1.2em;}#sk-container-id-1 div.sk-label-container {text-align: center;}#sk-container-id-1 div.sk-container {/* jupyter's `normalize.less` sets `[hidden] { display: none; }` but bootstrap.min.css set `[hidden] { display: none !important; }` so we also need the `!important` here to be able to override the default hidden behavior on the sphinx rendered scikit-learn.org. See: https://github.com/scikit-learn/scikit-learn/issues/21755 */display: inline-block !important;position: relative;}#sk-container-id-1 div.sk-text-repr-fallback {display: none;}</style><div id=\"sk-container-id-1\" class=\"sk-top-container\"><div class=\"sk-text-repr-fallback\"><pre>XGBClassifier(base_score=None, booster=None, callbacks=None,\n",
       "              colsample_bylevel=None, colsample_bynode=None,\n",
       "              colsample_bytree=0.8, device=None, early_stopping_rounds=None,\n",
       "              enable_categorical=False, eval_metric=&#x27;mlogloss&#x27;,\n",
       "              feature_types=None, gamma=0.1, grow_policy=None,\n",
       "              importance_type=None, interaction_constraints=None,\n",
       "              learning_rate=0.05, max_bin=None, max_cat_threshold=None,\n",
       "              max_cat_to_onehot=None, max_delta_step=None, max_depth=4,\n",
       "              max_leaves=None, min_child_weight=2, missing=nan,\n",
       "              monotone_constraints=None, multi_strategy=None, n_estimators=500,\n",
       "              n_jobs=None, num_class=3, num_parallel_tree=None, ...)</pre><b>In a Jupyter environment, please rerun this cell to show the HTML representation or trust the notebook. <br />On GitHub, the HTML representation is unable to render, please try loading this page with nbviewer.org.</b></div><div class=\"sk-container\" hidden><div class=\"sk-item\"><div class=\"sk-estimator sk-toggleable\"><input class=\"sk-toggleable__control sk-hidden--visually\" id=\"sk-estimator-id-1\" type=\"checkbox\" checked><label for=\"sk-estimator-id-1\" class=\"sk-toggleable__label sk-toggleable__label-arrow\">XGBClassifier</label><div class=\"sk-toggleable__content\"><pre>XGBClassifier(base_score=None, booster=None, callbacks=None,\n",
       "              colsample_bylevel=None, colsample_bynode=None,\n",
       "              colsample_bytree=0.8, device=None, early_stopping_rounds=None,\n",
       "              enable_categorical=False, eval_metric=&#x27;mlogloss&#x27;,\n",
       "              feature_types=None, gamma=0.1, grow_policy=None,\n",
       "              importance_type=None, interaction_constraints=None,\n",
       "              learning_rate=0.05, max_bin=None, max_cat_threshold=None,\n",
       "              max_cat_to_onehot=None, max_delta_step=None, max_depth=4,\n",
       "              max_leaves=None, min_child_weight=2, missing=nan,\n",
       "              monotone_constraints=None, multi_strategy=None, n_estimators=500,\n",
       "              n_jobs=None, num_class=3, num_parallel_tree=None, ...)</pre></div></div></div></div></div>"
      ],
      "text/plain": [
       "XGBClassifier(base_score=None, booster=None, callbacks=None,\n",
       "              colsample_bylevel=None, colsample_bynode=None,\n",
       "              colsample_bytree=0.8, device=None, early_stopping_rounds=None,\n",
       "              enable_categorical=False, eval_metric='mlogloss',\n",
       "              feature_types=None, gamma=0.1, grow_policy=None,\n",
       "              importance_type=None, interaction_constraints=None,\n",
       "              learning_rate=0.05, max_bin=None, max_cat_threshold=None,\n",
       "              max_cat_to_onehot=None, max_delta_step=None, max_depth=4,\n",
       "              max_leaves=None, min_child_weight=2, missing=nan,\n",
       "              monotone_constraints=None, multi_strategy=None, n_estimators=500,\n",
       "              n_jobs=None, num_class=3, num_parallel_tree=None, ...)"
      ]
     },
     "execution_count": 22,
     "metadata": {},
     "output_type": "execute_result"
    }
   ],
   "source": [
    "import pandas as pd\n",
    "import numpy as np\n",
    "from sklearn.model_selection import train_test_split\n",
    "import xgboost as xgb\n",
    "from sklearn.utils.class_weight import compute_sample_weight\n",
    "\n",
    "# 🔹 Step 0: Assume df has these columns: 'id', 'Status_C', 'Status_CL', 'Status_D', and all features\n",
    "# 🔹 Reconstruct multiclass labels from one-hot\n",
    "df['Status'] = np.argmax(df[['Status_C', 'Status_CL', 'Status_D']].values, axis=1)\n",
    "\n",
    "# 🔹 Step 1: Prepare features and target\n",
    "X = df.drop(['id', 'Status', 'Status_C', 'Status_CL', 'Status_D'], axis=1)\n",
    "y = df['Status']\n",
    "\n",
    "# 🔹 Step 2: Train-test split\n",
    "X_train, X_test, y_train, y_test, id_train, id_test = train_test_split(\n",
    "    X, y, df['id'], test_size=0.2, stratify=y, random_state=42\n",
    ")\n",
    "\n",
    "# ─────────────────────────────────────────────────────────────────────────────\n",
    "# 3. Compute class‑balanced sample weights\n",
    "# ─────────────────────────────────────────────────────────────────────────────\n",
    "sample_weights = compute_sample_weight(class_weight=\"balanced\", y=y_train)\n",
    "\n",
    "# ─────────────────────────────────────────────────────────────────────────────\n",
    "# 4. Train XGBoost (multiclass, probability output, log‑loss eval)\n",
    "# ─────────────────────────────────────────────────────────────────────────────\n",
    "model = xgb.XGBClassifier(\n",
    "    objective=\"multi:softprob\",  # softmax probs\n",
    "    num_class=3,\n",
    "    eval_metric=\"mlogloss\",      # monitor log‑loss\n",
    "    use_label_encoder=False,\n",
    "    n_estimators=500,\n",
    "    learning_rate=0.05,\n",
    "    max_depth=4,\n",
    "    min_child_weight=2,\n",
    "    subsample=0.8,\n",
    "    colsample_bytree=0.8,\n",
    "    gamma=0.1,\n",
    "    reg_alpha=0.1,\n",
    "    reg_lambda=1,\n",
    "    random_state=42,\n",
    ")\n",
    "\n",
    "model.fit(\n",
    "    X_train,\n",
    "    y_train,\n",
    "    sample_weight=sample_weights,              # ⇐ class‑balance here\n",
    "    eval_set=[(X_test, y_test)],\n",
    "    verbose=50                                 # print every 50 boosting rounds\n",
    ")"
   ]
  },
  {
   "cell_type": "code",
   "execution_count": 23,
   "id": "227e2724",
   "metadata": {
    "execution": {
     "iopub.execute_input": "2025-07-15T15:26:55.409890Z",
     "iopub.status.busy": "2025-07-15T15:26:55.409587Z",
     "iopub.status.idle": "2025-07-15T15:26:55.648361Z",
     "shell.execute_reply": "2025-07-15T15:26:55.647374Z"
    },
    "papermill": {
     "duration": 0.250836,
     "end_time": "2025-07-15T15:26:55.649903",
     "exception": false,
     "start_time": "2025-07-15T15:26:55.399067",
     "status": "completed"
    },
    "tags": []
   },
   "outputs": [
    {
     "data": {
      "image/png": "[encoded data removed]",
      "text/plain": [
       "<Figure size 800x500 with 1 Axes>"
      ]
     },
     "metadata": {},
     "output_type": "display_data"
    }
   ],
   "source": [
    "import matplotlib.pyplot as plt\n",
    "\n",
    "# Extract training log-loss from model\n",
    "results = model.evals_result()\n",
    "\n",
    "# Plot\n",
    "plt.figure(figsize=(8, 5))\n",
    "plt.plot(results['validation_0']['mlogloss'], label='Validation Log Loss', color='blue')\n",
    "plt.xlabel(\"Boosting Rounds\")\n",
    "plt.ylabel(\"Log Loss\")\n",
    "plt.title(\"XGBoost Log Loss Over Iterations\")\n",
    "plt.legend()\n",
    "plt.grid(True)\n",
    "plt.tight_layout()\n",
    "plt.show()\n"
   ]
  },
  {
   "cell_type": "code",
   "execution_count": 24,
   "id": "5e45e98b",
   "metadata": {
    "execution": {
     "iopub.execute_input": "2025-07-15T15:26:55.671397Z",
     "iopub.status.busy": "2025-07-15T15:26:55.671014Z",
     "iopub.status.idle": "2025-07-15T15:26:55.782770Z",
     "shell.execute_reply": "2025-07-15T15:26:55.780766Z"
    },
    "papermill": {
     "duration": 0.128109,
     "end_time": "2025-07-15T15:26:55.788098",
     "exception": false,
     "start_time": "2025-07-15T15:26:55.659989",
     "status": "completed"
    },
    "tags": []
   },
   "outputs": [],
   "source": [
    "y_pred_proba=model.predict_proba(X_test)\n",
    "y_pred=model.predict(X_test)"
   ]
  },
  {
   "cell_type": "code",
   "execution_count": 25,
   "id": "a852836c",
   "metadata": {
    "execution": {
     "iopub.execute_input": "2025-07-15T15:26:55.824108Z",
     "iopub.status.busy": "2025-07-15T15:26:55.823076Z",
     "iopub.status.idle": "2025-07-15T15:26:56.079209Z",
     "shell.execute_reply": "2025-07-15T15:26:56.078117Z"
    },
    "papermill": {
     "duration": 0.275303,
     "end_time": "2025-07-15T15:26:56.080957",
     "exception": false,
     "start_time": "2025-07-15T15:26:55.805654",
     "status": "completed"
    },
    "tags": []
   },
   "outputs": [
    {
     "name": "stdout",
     "output_type": "stream",
     "text": [
      "Log Loss: 0.4488\n",
      "Accuracy: 0.8293\n",
      "Classification Report:\n",
      "\n",
      "              precision    recall  f1-score   support\n",
      "\n",
      "           C       0.92      0.86      0.89      2036\n",
      "          CL       0.24      0.54      0.33        76\n",
      "           D       0.76      0.79      0.77       888\n",
      "\n",
      "    accuracy                           0.83      3000\n",
      "   macro avg       0.64      0.73      0.66      3000\n",
      "weighted avg       0.85      0.83      0.84      3000\n",
      "\n"
     ]
    },
    {
     "data": {
      "image/png": "[encoded data removed]",
      "text/plain": [
       "<Figure size 640x480 with 2 Axes>"
      ]
     },
     "metadata": {},
     "output_type": "display_data"
    }
   ],
   "source": [
    "from sklearn.metrics import log_loss,accuracy_score,classification_report,confusion_matrix\n",
    "import seaborn as sns\n",
    "import matplotlib.pyplot as plt\n",
    "logloss=log_loss(y_test,y_pred_proba)\n",
    "acc=accuracy_score(y_test,y_pred)\n",
    "print(f\"Log Loss: {logloss:.4f}\")\n",
    "print(f\"Accuracy: {acc:.4f}\")\n",
    "print(\"Classification Report:\\n\")\n",
    "print(classification_report(y_test, y_pred, target_names=['C', 'CL', 'D']))\n",
    "cm = confusion_matrix(y_test, y_pred)\n",
    "sns.heatmap(cm, annot=True, fmt='d', xticklabels=['C', 'CL', 'D'], yticklabels=['C', 'CL', 'D'])\n",
    "plt.xlabel('Predicted')\n",
    "plt.ylabel('Actual')\n",
    "plt.title('Confusion Matrix')\n",
    "plt.show()"
   ]
  },
  {
   "cell_type": "code",
   "execution_count": 26,
   "id": "1e7bc32a",
   "metadata": {
    "execution": {
     "iopub.execute_input": "2025-07-15T15:26:56.111335Z",
     "iopub.status.busy": "2025-07-15T15:26:56.110260Z",
     "iopub.status.idle": "2025-07-15T15:26:56.228357Z",
     "shell.execute_reply": "2025-07-15T15:26:56.227340Z"
    },
    "papermill": {
     "duration": 0.138437,
     "end_time": "2025-07-15T15:26:56.230104",
     "exception": false,
     "start_time": "2025-07-15T15:26:56.091667",
     "status": "completed"
    },
    "tags": []
   },
   "outputs": [],
   "source": [
    "# 🔹 Step 4: Predict class probabilities\n",
    "y_pred_proba = model.predict_proba(X_test)  # shape = (n_samples, 3)\n",
    "\n",
    "# 🔹 Step 5: Prepare output for submission\n",
    "output = pd.DataFrame(y_pred_proba, columns=['Status_C', 'Status_CL', 'Status_D'])\n",
    "output['id'] = id_test.values\n",
    "output = output[['id', 'Status_C', 'Status_CL', 'Status_D']]\n",
    "\n",
    "# 🔹 Step 6: Save to CSV\n",
    "output.to_csv('submission.csv', index=False)"
   ]
  },
  {
   "cell_type": "code",
   "execution_count": 27,
   "id": "6bbf38fe",
   "metadata": {
    "execution": {
     "iopub.execute_input": "2025-07-15T15:26:56.255825Z",
     "iopub.status.busy": "2025-07-15T15:26:56.255368Z",
     "iopub.status.idle": "2025-07-15T15:27:00.193688Z",
     "shell.execute_reply": "2025-07-15T15:27:00.192873Z"
    },
    "papermill": {
     "duration": 3.952709,
     "end_time": "2025-07-15T15:27:00.195284",
     "exception": false,
     "start_time": "2025-07-15T15:26:56.242575",
     "status": "completed"
    },
    "tags": []
   },
   "outputs": [
    {
     "name": "stdout",
     "output_type": "stream",
     "text": [
      "[0]\tvalidation_0-mlogloss:1.06911\n",
      "[50]\tvalidation_0-mlogloss:0.62816\n",
      "[100]\tvalidation_0-mlogloss:0.56133\n",
      "[150]\tvalidation_0-mlogloss:0.53109\n",
      "[200]\tvalidation_0-mlogloss:0.51248\n",
      "[250]\tvalidation_0-mlogloss:0.49795\n",
      "[300]\tvalidation_0-mlogloss:0.48389\n",
      "[350]\tvalidation_0-mlogloss:0.47158\n",
      "[400]\tvalidation_0-mlogloss:0.46282\n",
      "[450]\tvalidation_0-mlogloss:0.45460\n",
      "[499]\tvalidation_0-mlogloss:0.44880\n"
     ]
    },
    {
     "data": {
      "text/html": [
       "<style>#sk-container-id-2 {color: black;background-color: white;}#sk-container-id-2 pre{padding: 0;}#sk-container-id-2 div.sk-toggleable {background-color: white;}#sk-container-id-2 label.sk-toggleable__label {cursor: pointer;display: block;width: 100%;margin-bottom: 0;padding: 0.3em;box-sizing: border-box;text-align: center;}#sk-container-id-2 label.sk-toggleable__label-arrow:before {content: \"▸\";float: left;margin-right: 0.25em;color: #696969;}#sk-container-id-2 label.sk-toggleable__label-arrow:hover:before {color: black;}#sk-container-id-2 div.sk-estimator:hover label.sk-toggleable__label-arrow:before {color: black;}#sk-container-id-2 div.sk-toggleable__content {max-height: 0;max-width: 0;overflow: hidden;text-align: left;background-color: #f0f8ff;}#sk-container-id-2 div.sk-toggleable__content pre {margin: 0.2em;color: black;border-radius: 0.25em;background-color: #f0f8ff;}#sk-container-id-2 input.sk-toggleable__control:checked~div.sk-toggleable__content {max-height: 200px;max-width: 100%;overflow: auto;}#sk-container-id-2 input.sk-toggleable__control:checked~label.sk-toggleable__label-arrow:before {content: \"▾\";}#sk-container-id-2 div.sk-estimator input.sk-toggleable__control:checked~label.sk-toggleable__label {background-color: #d4ebff;}#sk-container-id-2 div.sk-label input.sk-toggleable__control:checked~label.sk-toggleable__label {background-color: #d4ebff;}#sk-container-id-2 input.sk-hidden--visually {border: 0;clip: rect(1px 1px 1px 1px);clip: rect(1px, 1px, 1px, 1px);height: 1px;margin: -1px;overflow: hidden;padding: 0;position: absolute;width: 1px;}#sk-container-id-2 div.sk-estimator {font-family: monospace;background-color: #f0f8ff;border: 1px dotted black;border-radius: 0.25em;box-sizing: border-box;margin-bottom: 0.5em;}#sk-container-id-2 div.sk-estimator:hover {background-color: #d4ebff;}#sk-container-id-2 div.sk-parallel-item::after {content: \"\";width: 100%;border-bottom: 1px solid gray;flex-grow: 1;}#sk-container-id-2 div.sk-label:hover label.sk-toggleable__label {background-color: #d4ebff;}#sk-container-id-2 div.sk-serial::before {content: \"\";position: absolute;border-left: 1px solid gray;box-sizing: border-box;top: 0;bottom: 0;left: 50%;z-index: 0;}#sk-container-id-2 div.sk-serial {display: flex;flex-direction: column;align-items: center;background-color: white;padding-right: 0.2em;padding-left: 0.2em;position: relative;}#sk-container-id-2 div.sk-item {position: relative;z-index: 1;}#sk-container-id-2 div.sk-parallel {display: flex;align-items: stretch;justify-content: center;background-color: white;position: relative;}#sk-container-id-2 div.sk-item::before, #sk-container-id-2 div.sk-parallel-item::before {content: \"\";position: absolute;border-left: 1px solid gray;box-sizing: border-box;top: 0;bottom: 0;left: 50%;z-index: -1;}#sk-container-id-2 div.sk-parallel-item {display: flex;flex-direction: column;z-index: 1;position: relative;background-color: white;}#sk-container-id-2 div.sk-parallel-item:first-child::after {align-self: flex-end;width: 50%;}#sk-container-id-2 div.sk-parallel-item:last-child::after {align-self: flex-start;width: 50%;}#sk-container-id-2 div.sk-parallel-item:only-child::after {width: 0;}#sk-container-id-2 div.sk-dashed-wrapped {border: 1px dashed gray;margin: 0 0.4em 0.5em 0.4em;box-sizing: border-box;padding-bottom: 0.4em;background-color: white;}#sk-container-id-2 div.sk-label label {font-family: monospace;font-weight: bold;display: inline-block;line-height: 1.2em;}#sk-container-id-2 div.sk-label-container {text-align: center;}#sk-container-id-2 div.sk-container {/* jupyter's `normalize.less` sets `[hidden] { display: none; }` but bootstrap.min.css set `[hidden] { display: none !important; }` so we also need the `!important` here to be able to override the default hidden behavior on the sphinx rendered scikit-learn.org. See: https://github.com/scikit-learn/scikit-learn/issues/21755 */display: inline-block !important;position: relative;}#sk-container-id-2 div.sk-text-repr-fallback {display: none;}</style><div id=\"sk-container-id-2\" class=\"sk-top-container\"><div class=\"sk-text-repr-fallback\"><pre>XGBClassifier(base_score=None, booster=None, callbacks=None,\n",
       "              colsample_bylevel=None, colsample_bynode=None,\n",
       "              colsample_bytree=0.8, device=None, early_stopping_rounds=None,\n",
       "              enable_categorical=False, eval_metric=&#x27;mlogloss&#x27;,\n",
       "              feature_types=None, gamma=0.1, grow_policy=None,\n",
       "              importance_type=None, interaction_constraints=None,\n",
       "              learning_rate=0.05, max_bin=None, max_cat_threshold=None,\n",
       "              max_cat_to_onehot=None, max_delta_step=None, max_depth=4,\n",
       "              max_leaves=None, min_child_weight=2, missing=nan,\n",
       "              monotone_constraints=None, multi_strategy=None, n_estimators=500,\n",
       "              n_jobs=None, num_class=3, num_parallel_tree=None, ...)</pre><b>In a Jupyter environment, please rerun this cell to show the HTML representation or trust the notebook. <br />On GitHub, the HTML representation is unable to render, please try loading this page with nbviewer.org.</b></div><div class=\"sk-container\" hidden><div class=\"sk-item\"><div class=\"sk-estimator sk-toggleable\"><input class=\"sk-toggleable__control sk-hidden--visually\" id=\"sk-estimator-id-2\" type=\"checkbox\" checked><label for=\"sk-estimator-id-2\" class=\"sk-toggleable__label sk-toggleable__label-arrow\">XGBClassifier</label><div class=\"sk-toggleable__content\"><pre>XGBClassifier(base_score=None, booster=None, callbacks=None,\n",
       "              colsample_bylevel=None, colsample_bynode=None,\n",
       "              colsample_bytree=0.8, device=None, early_stopping_rounds=None,\n",
       "              enable_categorical=False, eval_metric=&#x27;mlogloss&#x27;,\n",
       "              feature_types=None, gamma=0.1, grow_policy=None,\n",
       "              importance_type=None, interaction_constraints=None,\n",
       "              learning_rate=0.05, max_bin=None, max_cat_threshold=None,\n",
       "              max_cat_to_onehot=None, max_delta_step=None, max_depth=4,\n",
       "              max_leaves=None, min_child_weight=2, missing=nan,\n",
       "              monotone_constraints=None, multi_strategy=None, n_estimators=500,\n",
       "              n_jobs=None, num_class=3, num_parallel_tree=None, ...)</pre></div></div></div></div></div>"
      ],
      "text/plain": [
       "XGBClassifier(base_score=None, booster=None, callbacks=None,\n",
       "              colsample_bylevel=None, colsample_bynode=None,\n",
       "              colsample_bytree=0.8, device=None, early_stopping_rounds=None,\n",
       "              enable_categorical=False, eval_metric='mlogloss',\n",
       "              feature_types=None, gamma=0.1, grow_policy=None,\n",
       "              importance_type=None, interaction_constraints=None,\n",
       "              learning_rate=0.05, max_bin=None, max_cat_threshold=None,\n",
       "              max_cat_to_onehot=None, max_delta_step=None, max_depth=4,\n",
       "              max_leaves=None, min_child_weight=2, missing=nan,\n",
       "              monotone_constraints=None, multi_strategy=None, n_estimators=500,\n",
       "              n_jobs=None, num_class=3, num_parallel_tree=None, ...)"
      ]
     },
     "execution_count": 27,
     "metadata": {},
     "output_type": "execute_result"
    }
   ],
   "source": [
    "import pandas as pd\n",
    "import numpy as np\n",
    "from sklearn.model_selection import train_test_split\n",
    "from sklearn.utils.class_weight import compute_class_weight\n",
    "import xgboost as xgb\n",
    "\n",
    "# 🔹 Step 0: Reconstruct multiclass labels from one-hot columns\n",
    "df['Status'] = np.argmax(df[['Status_C', 'Status_CL', 'Status_D']].values, axis=1)\n",
    "\n",
    "# 🔹 Step 1: Prepare features and target\n",
    "X = df.drop(['id', 'Status', 'Status_C', 'Status_CL', 'Status_D'], axis=1)\n",
    "y = df['Status']\n",
    "\n",
    "# 🔹 Step 2: Train-test split (stratified)\n",
    "X_train, X_test, y_train, y_test, id_train, id_test = train_test_split(\n",
    "    X, y, df['id'], test_size=0.2, stratify=y, random_state=42\n",
    ")\n",
    "\n",
    "# ─────────────────────────────────────────────────────────────────────────────\n",
    "# 3. Compute class-balanced sample weights\n",
    "# ─────────────────────────────────────────────────────────────────────────────\n",
    "# Compute weights for each class (inverse frequency)\n",
    "class_weights = compute_class_weight(class_weight='balanced', classes=np.unique(y_train), y=y_train)\n",
    "\n",
    "# Map weights to each sample in y_train\n",
    "weight_map = {cls: wt for cls, wt in zip(np.unique(y_train), class_weights)}\n",
    "sample_weights = y_train.map(weight_map)\n",
    "\n",
    "# ─────────────────────────────────────────────────────────────────────────────\n",
    "# 4. Train XGBoost (multiclass, probability output, log‑loss eval)\n",
    "# ─────────────────────────────────────────────────────────────────────────────\n",
    "model = xgb.XGBClassifier(\n",
    "    objective=\"multi:softprob\",  # softmax probs\n",
    "    num_class=3,\n",
    "    eval_metric=\"mlogloss\",      # monitor log‑loss\n",
    "    use_label_encoder=False,\n",
    "    n_estimators=500,\n",
    "    learning_rate=0.05,\n",
    "    max_depth=4,\n",
    "    min_child_weight=2,\n",
    "    subsample=0.8,\n",
    "    colsample_bytree=0.8,\n",
    "    gamma=0.1,\n",
    "    reg_alpha=0.1,\n",
    "    reg_lambda=1,\n",
    "    random_state=42,\n",
    ")\n",
    "\n",
    "# Fit with per-sample weights\n",
    "model.fit(\n",
    "    X_train,\n",
    "    y_train,\n",
    "    sample_weight=sample_weights,\n",
    "    eval_set=[(X_test, y_test)],\n",
    "    verbose=50\n",
    ")\n"
   ]
  },
  {
   "cell_type": "code",
   "execution_count": 28,
   "id": "df77079b",
   "metadata": {
    "execution": {
     "iopub.execute_input": "2025-07-15T15:27:00.219022Z",
     "iopub.status.busy": "2025-07-15T15:27:00.218723Z",
     "iopub.status.idle": "2025-07-15T15:27:00.223959Z",
     "shell.execute_reply": "2025-07-15T15:27:00.223052Z"
    },
    "papermill": {
     "duration": 0.018705,
     "end_time": "2025-07-15T15:27:00.225371",
     "exception": false,
     "start_time": "2025-07-15T15:27:00.206666",
     "status": "completed"
    },
    "tags": []
   },
   "outputs": [
    {
     "name": "stdout",
     "output_type": "stream",
     "text": [
      "Class Weights: {0: 0.4910988336402701, 1: 13.114754098360656, 2: 1.1267605633802817}\n"
     ]
    }
   ],
   "source": [
    "print(\"Class Weights:\", weight_map)\n"
   ]
  },
  {
   "cell_type": "code",
   "execution_count": 29,
   "id": "c4c11847",
   "metadata": {
    "execution": {
     "iopub.execute_input": "2025-07-15T15:27:00.248987Z",
     "iopub.status.busy": "2025-07-15T15:27:00.248664Z",
     "iopub.status.idle": "2025-07-15T15:27:00.313576Z",
     "shell.execute_reply": "2025-07-15T15:27:00.311924Z"
    },
    "papermill": {
     "duration": 0.078555,
     "end_time": "2025-07-15T15:27:00.315136",
     "exception": false,
     "start_time": "2025-07-15T15:27:00.236581",
     "status": "completed"
    },
    "tags": []
   },
   "outputs": [
    {
     "name": "stdout",
     "output_type": "stream",
     "text": [
      "Classification Report:\n",
      "              precision    recall  f1-score   support\n",
      "\n",
      "           C       0.92      0.86      0.89      2036\n",
      "          CL       0.24      0.54      0.33        76\n",
      "           D       0.76      0.79      0.77       888\n",
      "\n",
      "    accuracy                           0.83      3000\n",
      "   macro avg       0.64      0.73      0.66      3000\n",
      "weighted avg       0.85      0.83      0.84      3000\n",
      "\n",
      "Confusion Matrix:\n",
      "[[1748   89  199]\n",
      " [  16   41   19]\n",
      " [ 145   44  699]]\n"
     ]
    }
   ],
   "source": [
    "from sklearn.metrics import classification_report, confusion_matrix\n",
    "\n",
    "y_pred = model.predict(X_test)\n",
    "\n",
    "print(\"Classification Report:\")\n",
    "print(classification_report(y_test, y_pred, target_names=[\"C\", \"CL\", \"D\"]))\n",
    "\n",
    "print(\"Confusion Matrix:\")\n",
    "print(confusion_matrix(y_test, y_pred))\n"
   ]
  },
  {
   "cell_type": "code",
   "execution_count": 30,
   "id": "3115d948",
   "metadata": {
    "execution": {
     "iopub.execute_input": "2025-07-15T15:27:00.339680Z",
     "iopub.status.busy": "2025-07-15T15:27:00.338942Z",
     "iopub.status.idle": "2025-07-15T15:27:00.391641Z",
     "shell.execute_reply": "2025-07-15T15:27:00.389620Z"
    },
    "papermill": {
     "duration": 0.066614,
     "end_time": "2025-07-15T15:27:00.393333",
     "exception": false,
     "start_time": "2025-07-15T15:27:00.326719",
     "status": "completed"
    },
    "tags": []
   },
   "outputs": [
    {
     "name": "stdout",
     "output_type": "stream",
     "text": [
      "Macro F1 Score: 0.6629000932723377\n"
     ]
    }
   ],
   "source": [
    "from sklearn.metrics import f1_score\n",
    "f1_macro = f1_score(y_test, model.predict(X_test), average='macro')\n",
    "print(\"Macro F1 Score:\", f1_macro)\n"
   ]
  },
  {
   "cell_type": "code",
   "execution_count": 31,
   "id": "75dceead",
   "metadata": {
    "execution": {
     "iopub.execute_input": "2025-07-15T15:27:00.420245Z",
     "iopub.status.busy": "2025-07-15T15:27:00.419893Z",
     "iopub.status.idle": "2025-07-15T15:27:00.619980Z",
     "shell.execute_reply": "2025-07-15T15:27:00.618975Z"
    },
    "papermill": {
     "duration": 0.21503,
     "end_time": "2025-07-15T15:27:00.621709",
     "exception": false,
     "start_time": "2025-07-15T15:27:00.406679",
     "status": "completed"
    },
    "tags": []
   },
   "outputs": [
    {
     "data": {
      "image/png": "[encoded data removed]",
      "text/plain": [
       "<Figure size 640x480 with 1 Axes>"
      ]
     },
     "metadata": {},
     "output_type": "display_data"
    }
   ],
   "source": [
    "import matplotlib.pyplot as plt\n",
    "\n",
    "_, counts = np.unique(model.predict(X_test), return_counts=True)\n",
    "plt.bar([\"C\", \"CL\", \"D\"], counts)\n",
    "plt.title(\"Predicted Class Distribution\")\n",
    "plt.show()\n"
   ]
  }
 ],
 "metadata": {
  "kaggle": {
   "accelerator": "none",
   "dataSources": [
    {
     "datasetId": 7857497,
     "sourceId": 12456281,
     "sourceType": "datasetVersion"
    }
   ],
   "dockerImageVersionId": 31089,
   "isGpuEnabled": false,
   "isInternetEnabled": true,
   "language": "python",
   "sourceType": "notebook"
  },
  "kernelspec": {
   "display_name": "Python 3",
   "language": "python",
   "name": "python3"
  },
  "language_info": {
   "codemirror_mode": {
    "name": "ipython",
    "version": 3
   },
   "file_extension": ".py",
   "mimetype": "text/x-python",
   "name": "python",
   "nbconvert_exporter": "python",
   "pygments_lexer": "ipython3",
   "version": "3.11.13"
  },
  "papermill": {
   "default_parameters": {},
   "duration": 22.68588,
   "end_time": "2025-07-15T15:27:01.456478",
   "environment_variables": {},
   "exception": null,
   "input_path": "__notebook__.ipynb",
   "output_path": "__notebook__.ipynb",
   "parameters": {},
   "start_time": "2025-07-15T15:26:38.770598",
   "version": "2.6.0"
  }
 },
 "nbformat": 4,
 "nbformat_minor": 5
}
