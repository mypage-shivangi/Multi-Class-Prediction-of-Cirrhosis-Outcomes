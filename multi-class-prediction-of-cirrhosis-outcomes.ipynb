{
 "cells": [
  {
   "cell_type": "code",
   "execution_count": 1,
   "id": "216dd633",
   "metadata": {
    "_cell_guid": "b1076dfc-b9ad-4769-8c92-a6c4dae69d19",
    "_uuid": "8f2839f25d086af736a60e9eeb907d3b93b6e0e5",
    "execution": {
     "iopub.execute_input": "2025-07-15T15:59:13.813866Z",
     "iopub.status.busy": "2025-07-15T15:59:13.813533Z",
     "iopub.status.idle": "2025-07-15T15:59:15.720590Z",
     "shell.execute_reply": "2025-07-15T15:59:15.719467Z"
    },
    "papermill": {
     "duration": 1.917465,
     "end_time": "2025-07-15T15:59:15.722123",
     "exception": false,
     "start_time": "2025-07-15T15:59:13.804658",
     "status": "completed"
    },
    "tags": []
   },
   "outputs": [
    {
     "name": "stdout",
     "output_type": "stream",
     "text": [
      "/kaggle/input/cirrhosis-prediction/train.csv\n",
      "/kaggle/input/cirrhosis-prediction/test.csv\n"
     ]
    }
   ],
   "source": [
    "# This Python 3 environment comes with many helpful analytics libraries installed\n",
    "# It is defined by the kaggle/python Docker image: https://github.com/kaggle/docker-python\n",
    "# For example, here's several helpful packages to load\n",
    "\n",
    "import numpy as np # linear algebra\n",
    "import pandas as pd # data processing, CSV file I/O (e.g. pd.read_csv)\n",
    "\n",
    "# Input data files are available in the read-only \"../input/\" directory\n",
    "# For example, running this (by clicking run or pressing Shift+Enter) will list all files under the input directory\n",
    "\n",
    "import os\n",
    "for dirname, _, filenames in os.walk('/kaggle/input'):\n",
    "    for filename in filenames:\n",
    "        print(os.path.join(dirname, filename))\n",
    "\n",
    "# You can write up to 20GB to the current directory (/kaggle/working/) that gets preserved as output when you create a version using \"Save & Run All\" \n",
    "# You can also write temporary files to /kaggle/temp/, but they won't be saved outside of the current session"
   ]
  },
  {
   "cell_type": "code",
   "execution_count": 2,
   "id": "a7ac9a42",
   "metadata": {
    "execution": {
     "iopub.execute_input": "2025-07-15T15:59:15.739837Z",
     "iopub.status.busy": "2025-07-15T15:59:15.738761Z",
     "iopub.status.idle": "2025-07-15T15:59:15.811963Z",
     "shell.execute_reply": "2025-07-15T15:59:15.810992Z"
    },
    "papermill": {
     "duration": 0.084595,
     "end_time": "2025-07-15T15:59:15.813739",
     "exception": false,
     "start_time": "2025-07-15T15:59:15.729144",
     "status": "completed"
    },
    "tags": []
   },
   "outputs": [],
   "source": [
    "df=pd.read_csv('/kaggle/input/cirrhosis-prediction/train.csv')"
   ]
  },
  {
   "cell_type": "code",
   "execution_count": 3,
   "id": "8972d253",
   "metadata": {
    "execution": {
     "iopub.execute_input": "2025-07-15T15:59:15.828551Z",
     "iopub.status.busy": "2025-07-15T15:59:15.828203Z",
     "iopub.status.idle": "2025-07-15T15:59:15.867496Z",
     "shell.execute_reply": "2025-07-15T15:59:15.866669Z"
    },
    "papermill": {
     "duration": 0.048482,
     "end_time": "2025-07-15T15:59:15.869090",
     "exception": false,
     "start_time": "2025-07-15T15:59:15.820608",
     "status": "completed"
    },
    "tags": []
   },
   "outputs": [],
   "source": [
    "test_df=pd.read_csv('/kaggle/input/cirrhosis-prediction/test.csv')"
   ]
  },
  {
   "cell_type": "code",
   "execution_count": 4,
   "id": "b2fd2143",
   "metadata": {
    "execution": {
     "iopub.execute_input": "2025-07-15T15:59:15.884521Z",
     "iopub.status.busy": "2025-07-15T15:59:15.884162Z",
     "iopub.status.idle": "2025-07-15T15:59:15.903640Z",
     "shell.execute_reply": "2025-07-15T15:59:15.902601Z"
    },
    "papermill": {
     "duration": 0.029502,
     "end_time": "2025-07-15T15:59:15.905347",
     "exception": false,
     "start_time": "2025-07-15T15:59:15.875845",
     "status": "completed"
    },
    "tags": []
   },
   "outputs": [
    {
     "name": "stdout",
     "output_type": "stream",
     "text": [
      "   id  N_Days             Drug      Age Sex Ascites Hepatomegaly Spiders  \\\n",
      "0   0  2527.0          Placebo  15265.0   F       N            Y       N   \n",
      "1   1  1581.0              NaN  24472.0   F     NaN          NaN     NaN   \n",
      "2   2  1119.0              NaN  19358.0   F     NaN          NaN     NaN   \n",
      "3   3  2692.0  D-penicillamine  15177.0   F       N            N       N   \n",
      "4   4  2022.0  D-penicillamine  22514.0   F       N            Y       Y   \n",
      "\n",
      "  Edema  Bilirubin  Cholesterol  Albumin  Copper  Alk_Phos   SGOT  \\\n",
      "0     N        2.3        472.0     3.54    73.0     936.0  97.00   \n",
      "1     N        0.6          NaN     3.06     NaN       NaN    NaN   \n",
      "2     N        0.6          NaN     3.81     NaN       NaN    NaN   \n",
      "3     N        1.1        268.0     3.61   150.0    1509.0  88.35   \n",
      "4     N        0.9        223.0     3.60    13.0    1062.0  55.80   \n",
      "\n",
      "   Tryglicerides  Platelets  Prothrombin  Stage Status  \n",
      "0          114.0      195.0          9.9    2.0      C  \n",
      "1            NaN      244.0         10.0    3.0      C  \n",
      "2            NaN      350.0          9.5    3.0      C  \n",
      "3          113.0      277.0          9.5    2.0      C  \n",
      "4          112.0      166.0         10.1    4.0      C  \n"
     ]
    }
   ],
   "source": [
    "import warnings\n",
    "warnings.filterwarnings(\"ignore\")\n",
    "print(df.head())"
   ]
  },
  {
   "cell_type": "code",
   "execution_count": 5,
   "id": "d5367560",
   "metadata": {
    "execution": {
     "iopub.execute_input": "2025-07-15T15:59:15.920210Z",
     "iopub.status.busy": "2025-07-15T15:59:15.919897Z",
     "iopub.status.idle": "2025-07-15T15:59:15.985476Z",
     "shell.execute_reply": "2025-07-15T15:59:15.984562Z"
    },
    "papermill": {
     "duration": 0.074707,
     "end_time": "2025-07-15T15:59:15.986922",
     "exception": false,
     "start_time": "2025-07-15T15:59:15.912215",
     "status": "completed"
    },
    "tags": []
   },
   "outputs": [
    {
     "data": {
      "text/html": [
       "<div>\n",
       "<style scoped>\n",
       "    .dataframe tbody tr th:only-of-type {\n",
       "        vertical-align: middle;\n",
       "    }\n",
       "\n",
       "    .dataframe tbody tr th {\n",
       "        vertical-align: top;\n",
       "    }\n",
       "\n",
       "    .dataframe thead th {\n",
       "        text-align: right;\n",
       "    }\n",
       "</style>\n",
       "<table border=\"1\" class=\"dataframe\">\n",
       "  <thead>\n",
       "    <tr style=\"text-align: right;\">\n",
       "      <th></th>\n",
       "      <th>id</th>\n",
       "      <th>N_Days</th>\n",
       "      <th>Age</th>\n",
       "      <th>Bilirubin</th>\n",
       "      <th>Cholesterol</th>\n",
       "      <th>Albumin</th>\n",
       "      <th>Copper</th>\n",
       "      <th>Alk_Phos</th>\n",
       "      <th>SGOT</th>\n",
       "      <th>Tryglicerides</th>\n",
       "      <th>Platelets</th>\n",
       "      <th>Prothrombin</th>\n",
       "      <th>Stage</th>\n",
       "    </tr>\n",
       "  </thead>\n",
       "  <tbody>\n",
       "    <tr>\n",
       "      <th>count</th>\n",
       "      <td>15000.000000</td>\n",
       "      <td>15000.000000</td>\n",
       "      <td>15000.000000</td>\n",
       "      <td>15000.000000</td>\n",
       "      <td>6584.000000</td>\n",
       "      <td>15000.000000</td>\n",
       "      <td>8335.000000</td>\n",
       "      <td>8409.000000</td>\n",
       "      <td>8410.000000</td>\n",
       "      <td>6555.000000</td>\n",
       "      <td>14444.000000</td>\n",
       "      <td>14979.000000</td>\n",
       "      <td>15000.000000</td>\n",
       "    </tr>\n",
       "    <tr>\n",
       "      <th>mean</th>\n",
       "      <td>7499.500000</td>\n",
       "      <td>1973.555067</td>\n",
       "      <td>19337.723000</td>\n",
       "      <td>1.870249</td>\n",
       "      <td>327.094927</td>\n",
       "      <td>3.524000</td>\n",
       "      <td>75.159568</td>\n",
       "      <td>1647.834486</td>\n",
       "      <td>105.506270</td>\n",
       "      <td>111.687262</td>\n",
       "      <td>252.989621</td>\n",
       "      <td>10.634555</td>\n",
       "      <td>3.016933</td>\n",
       "    </tr>\n",
       "    <tr>\n",
       "      <th>std</th>\n",
       "      <td>4330.271354</td>\n",
       "      <td>1252.981613</td>\n",
       "      <td>3654.208627</td>\n",
       "      <td>2.752110</td>\n",
       "      <td>176.075668</td>\n",
       "      <td>0.377667</td>\n",
       "      <td>75.488596</td>\n",
       "      <td>1844.671645</td>\n",
       "      <td>49.712528</td>\n",
       "      <td>53.152605</td>\n",
       "      <td>93.444052</td>\n",
       "      <td>0.766079</td>\n",
       "      <td>0.879336</td>\n",
       "    </tr>\n",
       "    <tr>\n",
       "      <th>min</th>\n",
       "      <td>0.000000</td>\n",
       "      <td>3.000000</td>\n",
       "      <td>91.000000</td>\n",
       "      <td>0.150000</td>\n",
       "      <td>119.000000</td>\n",
       "      <td>1.960000</td>\n",
       "      <td>3.000000</td>\n",
       "      <td>2.750000</td>\n",
       "      <td>16.200000</td>\n",
       "      <td>11.000000</td>\n",
       "      <td>0.400000</td>\n",
       "      <td>1.900000</td>\n",
       "      <td>1.000000</td>\n",
       "    </tr>\n",
       "    <tr>\n",
       "      <th>25%</th>\n",
       "      <td>3749.750000</td>\n",
       "      <td>1095.000000</td>\n",
       "      <td>16728.000000</td>\n",
       "      <td>0.600000</td>\n",
       "      <td>242.000000</td>\n",
       "      <td>3.290000</td>\n",
       "      <td>31.000000</td>\n",
       "      <td>721.000000</td>\n",
       "      <td>71.000000</td>\n",
       "      <td>78.000000</td>\n",
       "      <td>182.000000</td>\n",
       "      <td>10.100000</td>\n",
       "      <td>2.000000</td>\n",
       "    </tr>\n",
       "    <tr>\n",
       "      <th>50%</th>\n",
       "      <td>7499.500000</td>\n",
       "      <td>1831.000000</td>\n",
       "      <td>19722.000000</td>\n",
       "      <td>0.900000</td>\n",
       "      <td>280.000000</td>\n",
       "      <td>3.580000</td>\n",
       "      <td>52.000000</td>\n",
       "      <td>1070.000000</td>\n",
       "      <td>97.650000</td>\n",
       "      <td>99.000000</td>\n",
       "      <td>249.000000</td>\n",
       "      <td>10.600000</td>\n",
       "      <td>3.000000</td>\n",
       "    </tr>\n",
       "    <tr>\n",
       "      <th>75%</th>\n",
       "      <td>11249.250000</td>\n",
       "      <td>2644.000000</td>\n",
       "      <td>22388.000000</td>\n",
       "      <td>1.800000</td>\n",
       "      <td>364.000000</td>\n",
       "      <td>3.770000</td>\n",
       "      <td>89.000000</td>\n",
       "      <td>1653.000000</td>\n",
       "      <td>130.200000</td>\n",
       "      <td>134.000000</td>\n",
       "      <td>311.000000</td>\n",
       "      <td>11.000000</td>\n",
       "      <td>4.000000</td>\n",
       "    </tr>\n",
       "    <tr>\n",
       "      <th>max</th>\n",
       "      <td>14999.000000</td>\n",
       "      <td>27220.000000</td>\n",
       "      <td>35463.000000</td>\n",
       "      <td>28.000000</td>\n",
       "      <td>1868.000000</td>\n",
       "      <td>4.700000</td>\n",
       "      <td>608.000000</td>\n",
       "      <td>24201.200000</td>\n",
       "      <td>601.250000</td>\n",
       "      <td>608.000000</td>\n",
       "      <td>721.000000</td>\n",
       "      <td>18.000000</td>\n",
       "      <td>4.000000</td>\n",
       "    </tr>\n",
       "  </tbody>\n",
       "</table>\n",
       "</div>"
      ],
      "text/plain": [
       "                 id        N_Days           Age     Bilirubin  Cholesterol  \\\n",
       "count  15000.000000  15000.000000  15000.000000  15000.000000  6584.000000   \n",
       "mean    7499.500000   1973.555067  19337.723000      1.870249   327.094927   \n",
       "std     4330.271354   1252.981613   3654.208627      2.752110   176.075668   \n",
       "min        0.000000      3.000000     91.000000      0.150000   119.000000   \n",
       "25%     3749.750000   1095.000000  16728.000000      0.600000   242.000000   \n",
       "50%     7499.500000   1831.000000  19722.000000      0.900000   280.000000   \n",
       "75%    11249.250000   2644.000000  22388.000000      1.800000   364.000000   \n",
       "max    14999.000000  27220.000000  35463.000000     28.000000  1868.000000   \n",
       "\n",
       "            Albumin       Copper      Alk_Phos         SGOT  Tryglicerides  \\\n",
       "count  15000.000000  8335.000000   8409.000000  8410.000000    6555.000000   \n",
       "mean       3.524000    75.159568   1647.834486   105.506270     111.687262   \n",
       "std        0.377667    75.488596   1844.671645    49.712528      53.152605   \n",
       "min        1.960000     3.000000      2.750000    16.200000      11.000000   \n",
       "25%        3.290000    31.000000    721.000000    71.000000      78.000000   \n",
       "50%        3.580000    52.000000   1070.000000    97.650000      99.000000   \n",
       "75%        3.770000    89.000000   1653.000000   130.200000     134.000000   \n",
       "max        4.700000   608.000000  24201.200000   601.250000     608.000000   \n",
       "\n",
       "          Platelets   Prothrombin         Stage  \n",
       "count  14444.000000  14979.000000  15000.000000  \n",
       "mean     252.989621     10.634555      3.016933  \n",
       "std       93.444052      0.766079      0.879336  \n",
       "min        0.400000      1.900000      1.000000  \n",
       "25%      182.000000     10.100000      2.000000  \n",
       "50%      249.000000     10.600000      3.000000  \n",
       "75%      311.000000     11.000000      4.000000  \n",
       "max      721.000000     18.000000      4.000000  "
      ]
     },
     "execution_count": 5,
     "metadata": {},
     "output_type": "execute_result"
    }
   ],
   "source": [
    "df.describe()"
   ]
  },
  {
   "cell_type": "code",
   "execution_count": 6,
   "id": "b06b05eb",
   "metadata": {
    "execution": {
     "iopub.execute_input": "2025-07-15T15:59:16.002430Z",
     "iopub.status.busy": "2025-07-15T15:59:16.002074Z",
     "iopub.status.idle": "2025-07-15T15:59:16.024576Z",
     "shell.execute_reply": "2025-07-15T15:59:16.023638Z"
    },
    "papermill": {
     "duration": 0.031764,
     "end_time": "2025-07-15T15:59:16.025883",
     "exception": false,
     "start_time": "2025-07-15T15:59:15.994119",
     "status": "completed"
    },
    "tags": []
   },
   "outputs": [
    {
     "data": {
      "text/html": [
       "<div>\n",
       "<style scoped>\n",
       "    .dataframe tbody tr th:only-of-type {\n",
       "        vertical-align: middle;\n",
       "    }\n",
       "\n",
       "    .dataframe tbody tr th {\n",
       "        vertical-align: top;\n",
       "    }\n",
       "\n",
       "    .dataframe thead th {\n",
       "        text-align: right;\n",
       "    }\n",
       "</style>\n",
       "<table border=\"1\" class=\"dataframe\">\n",
       "  <thead>\n",
       "    <tr style=\"text-align: right;\">\n",
       "      <th></th>\n",
       "      <th>id</th>\n",
       "      <th>N_Days</th>\n",
       "      <th>Drug</th>\n",
       "      <th>Age</th>\n",
       "      <th>Sex</th>\n",
       "      <th>Ascites</th>\n",
       "      <th>Hepatomegaly</th>\n",
       "      <th>Spiders</th>\n",
       "      <th>Edema</th>\n",
       "      <th>Bilirubin</th>\n",
       "      <th>Cholesterol</th>\n",
       "      <th>Albumin</th>\n",
       "      <th>Copper</th>\n",
       "      <th>Alk_Phos</th>\n",
       "      <th>SGOT</th>\n",
       "      <th>Tryglicerides</th>\n",
       "      <th>Platelets</th>\n",
       "      <th>Prothrombin</th>\n",
       "      <th>Stage</th>\n",
       "      <th>Status</th>\n",
       "    </tr>\n",
       "  </thead>\n",
       "  <tbody>\n",
       "    <tr>\n",
       "      <th>4506</th>\n",
       "      <td>4506</td>\n",
       "      <td>207.0</td>\n",
       "      <td>D-penicillamine</td>\n",
       "      <td>19544.0</td>\n",
       "      <td>M</td>\n",
       "      <td>N</td>\n",
       "      <td>4.07</td>\n",
       "      <td>N</td>\n",
       "      <td>N</td>\n",
       "      <td>5.1</td>\n",
       "      <td>NaN</td>\n",
       "      <td>2.1</td>\n",
       "      <td>234.0</td>\n",
       "      <td>601.0</td>\n",
       "      <td>135.0</td>\n",
       "      <td>NaN</td>\n",
       "      <td>207.0</td>\n",
       "      <td>12.1</td>\n",
       "      <td>4.0</td>\n",
       "      <td>D</td>\n",
       "    </tr>\n",
       "  </tbody>\n",
       "</table>\n",
       "</div>"
      ],
      "text/plain": [
       "        id  N_Days             Drug      Age Sex Ascites Hepatomegaly Spiders  \\\n",
       "4506  4506   207.0  D-penicillamine  19544.0   M       N         4.07       N   \n",
       "\n",
       "     Edema  Bilirubin  Cholesterol  Albumin  Copper  Alk_Phos   SGOT  \\\n",
       "4506     N        5.1          NaN      2.1   234.0     601.0  135.0   \n",
       "\n",
       "      Tryglicerides  Platelets  Prothrombin  Stage Status  \n",
       "4506            NaN      207.0         12.1    4.0      D  "
      ]
     },
     "execution_count": 6,
     "metadata": {},
     "output_type": "execute_result"
    }
   ],
   "source": [
    "# Inspect those rows with 4.07\n",
    "df[df['Hepatomegaly'] == '4.07']"
   ]
  },
  {
   "cell_type": "code",
   "execution_count": 7,
   "id": "1cdc6e66",
   "metadata": {
    "execution": {
     "iopub.execute_input": "2025-07-15T15:59:16.042127Z",
     "iopub.status.busy": "2025-07-15T15:59:16.041278Z",
     "iopub.status.idle": "2025-07-15T15:59:16.061313Z",
     "shell.execute_reply": "2025-07-15T15:59:16.060318Z"
    },
    "papermill": {
     "duration": 0.029907,
     "end_time": "2025-07-15T15:59:16.063015",
     "exception": false,
     "start_time": "2025-07-15T15:59:16.033108",
     "status": "completed"
    },
    "tags": []
   },
   "outputs": [
    {
     "name": "stdout",
     "output_type": "stream",
     "text": [
      "\n",
      "Unique values in 'Drug':\n",
      "['Placebo' 'D-penicillamine']\n",
      "\n",
      "Unique values in 'Sex':\n",
      "['F' 'M']\n",
      "\n",
      "Unique values in 'Ascites':\n",
      "['N' 'Y']\n",
      "\n",
      "Unique values in 'Hepatomegaly':\n",
      "['Y' 'N' '4.07']\n",
      "\n",
      "Unique values in 'Spiders':\n",
      "['N' 'Y']\n",
      "\n",
      "Unique values in 'Edema':\n",
      "['N' 'S' 'Y']\n",
      "\n",
      "Unique values in 'Status':\n",
      "['C' 'D' 'CL']\n"
     ]
    }
   ],
   "source": [
    "nominal_cols=['Drug','Sex','Ascites','Hepatomegaly','Spiders','Edema','Status']\n",
    "for col in nominal_cols:\n",
    "    print(f\"\\nUnique values in '{col}':\")\n",
    "    print(df[col].dropna().unique())"
   ]
  },
  {
   "cell_type": "code",
   "execution_count": 8,
   "id": "e3057480",
   "metadata": {
    "execution": {
     "iopub.execute_input": "2025-07-15T15:59:16.078804Z",
     "iopub.status.busy": "2025-07-15T15:59:16.078485Z",
     "iopub.status.idle": "2025-07-15T15:59:16.109113Z",
     "shell.execute_reply": "2025-07-15T15:59:16.108323Z"
    },
    "papermill": {
     "duration": 0.04062,
     "end_time": "2025-07-15T15:59:16.110798",
     "exception": false,
     "start_time": "2025-07-15T15:59:16.070178",
     "status": "completed"
    },
    "tags": []
   },
   "outputs": [],
   "source": [
    "df['Hepatomegaly'] = df['Hepatomegaly'].replace('4.07', np.nan)\n",
    "df['Hepatomegaly'] = df['Hepatomegaly'].map({'N': 0, 'Y': 1})\n",
    "df['Drug'] = df['Drug'].map({'Placebo': 0, 'D-penicillamine': 1})\n",
    "df['Sex'] = df['Sex'].map({'F': 0, 'M': 1})\n",
    "df['Ascites'] = df['Ascites'].map({'N': 0, 'Y': 1})\n",
    "df['Spiders'] = df['Spiders'].map({'N': 0, 'Y': 1})\n",
    "df['Edema'] = df['Edema'].map({'N': 0, 'S': 1, 'Y': 2})\n",
    "df = pd.get_dummies(df, columns=['Status'], prefix='Status')"
   ]
  },
  {
   "cell_type": "code",
   "execution_count": 9,
   "id": "70b44673",
   "metadata": {
    "execution": {
     "iopub.execute_input": "2025-07-15T15:59:16.126914Z",
     "iopub.status.busy": "2025-07-15T15:59:16.126616Z",
     "iopub.status.idle": "2025-07-15T15:59:16.141778Z",
     "shell.execute_reply": "2025-07-15T15:59:16.140900Z"
    },
    "papermill": {
     "duration": 0.025036,
     "end_time": "2025-07-15T15:59:16.143334",
     "exception": false,
     "start_time": "2025-07-15T15:59:16.118298",
     "status": "completed"
    },
    "tags": []
   },
   "outputs": [],
   "source": [
    "import numpy as np\n",
    "import pandas as pd\n",
    "\n",
    "# Apply transformations to test_df\n",
    "test_df['Hepatomegaly'] = test_df['Hepatomegaly'].replace('4.07', np.nan)\n",
    "test_df['Hepatomegaly'] = test_df['Hepatomegaly'].map({'N': 0, 'Y': 1})\n",
    "test_df['Drug'] = test_df['Drug'].map({'Placebo': 0, 'D-penicillamine': 1})\n",
    "test_df['Sex'] = test_df['Sex'].map({'F': 0, 'M': 1})\n",
    "test_df['Ascites'] = test_df['Ascites'].map({'N': 0, 'Y': 1})\n",
    "test_df['Spiders'] = test_df['Spiders'].map({'N': 0, 'Y': 1})\n",
    "test_df['Edema'] = test_df['Edema'].map({'N': 0, 'S': 1, 'Y': 2})\n",
    "\n",
    "# One-hot encode the 'Status' column (if present)\n",
    "if 'Status' in test_df.columns:\n",
    "    test_df = pd.get_dummies(test_df, columns=['Status'], prefix='Status')\n"
   ]
  },
  {
   "cell_type": "code",
   "execution_count": 10,
   "id": "28f2e3ba",
   "metadata": {
    "execution": {
     "iopub.execute_input": "2025-07-15T15:59:16.159429Z",
     "iopub.status.busy": "2025-07-15T15:59:16.159100Z",
     "iopub.status.idle": "2025-07-15T15:59:16.177547Z",
     "shell.execute_reply": "2025-07-15T15:59:16.176579Z"
    },
    "papermill": {
     "duration": 0.02811,
     "end_time": "2025-07-15T15:59:16.179028",
     "exception": false,
     "start_time": "2025-07-15T15:59:16.150918",
     "status": "completed"
    },
    "tags": []
   },
   "outputs": [
    {
     "name": "stdout",
     "output_type": "stream",
     "text": [
      "<class 'pandas.core.frame.DataFrame'>\n",
      "RangeIndex: 15000 entries, 0 to 14999\n",
      "Data columns (total 22 columns):\n",
      " #   Column         Non-Null Count  Dtype  \n",
      "---  ------         --------------  -----  \n",
      " 0   id             15000 non-null  int64  \n",
      " 1   N_Days         15000 non-null  float64\n",
      " 2   Drug           8415 non-null   float64\n",
      " 3   Age            15000 non-null  float64\n",
      " 4   Sex            15000 non-null  int64  \n",
      " 5   Ascites        8424 non-null   float64\n",
      " 6   Hepatomegaly   8413 non-null   float64\n",
      " 7   Spiders        8414 non-null   float64\n",
      " 8   Edema          15000 non-null  int64  \n",
      " 9   Bilirubin      15000 non-null  float64\n",
      " 10  Cholesterol    6584 non-null   float64\n",
      " 11  Albumin        15000 non-null  float64\n",
      " 12  Copper         8335 non-null   float64\n",
      " 13  Alk_Phos       8409 non-null   float64\n",
      " 14  SGOT           8410 non-null   float64\n",
      " 15  Tryglicerides  6555 non-null   float64\n",
      " 16  Platelets      14444 non-null  float64\n",
      " 17  Prothrombin    14979 non-null  float64\n",
      " 18  Stage          15000 non-null  float64\n",
      " 19  Status_C       15000 non-null  bool   \n",
      " 20  Status_CL      15000 non-null  bool   \n",
      " 21  Status_D       15000 non-null  bool   \n",
      "dtypes: bool(3), float64(16), int64(3)\n",
      "memory usage: 2.2 MB\n"
     ]
    }
   ],
   "source": [
    "df.info()"
   ]
  },
  {
   "cell_type": "code",
   "execution_count": 11,
   "id": "81f9ab95",
   "metadata": {
    "execution": {
     "iopub.execute_input": "2025-07-15T15:59:16.195259Z",
     "iopub.status.busy": "2025-07-15T15:59:16.194959Z",
     "iopub.status.idle": "2025-07-15T15:59:16.252239Z",
     "shell.execute_reply": "2025-07-15T15:59:16.251406Z"
    },
    "papermill": {
     "duration": 0.067209,
     "end_time": "2025-07-15T15:59:16.253888",
     "exception": false,
     "start_time": "2025-07-15T15:59:16.186679",
     "status": "completed"
    },
    "tags": []
   },
   "outputs": [
    {
     "data": {
      "text/plain": [
       "id               0.000000\n",
       "N_Days           4.658358\n",
       "Drug            -0.111661\n",
       "Age             -0.288314\n",
       "Sex              4.518106\n",
       "Ascites          4.371117\n",
       "Hepatomegaly     0.202419\n",
       "Spiders          1.485304\n",
       "Edema            3.970258\n",
       "Bilirubin        4.041833\n",
       "Cholesterol      4.570320\n",
       "Albumin         -0.332126\n",
       "Copper           3.155200\n",
       "Alk_Phos         3.311105\n",
       "SGOT             1.845197\n",
       "Tryglicerides    2.558042\n",
       "Platelets        0.561408\n",
       "Prothrombin      1.717930\n",
       "Stage           -0.488897\n",
       "Status_C        -0.765591\n",
       "Status_CL        6.033525\n",
       "Status_D         0.894565\n",
       "dtype: float64"
      ]
     },
     "execution_count": 11,
     "metadata": {},
     "output_type": "execute_result"
    }
   ],
   "source": [
    "# Using pandas\n",
    "df.skew(numeric_only=True)  # Shows skewness for each numeric column\n"
   ]
  },
  {
   "cell_type": "code",
   "execution_count": 12,
   "id": "c1e49ce3",
   "metadata": {
    "execution": {
     "iopub.execute_input": "2025-07-15T15:59:16.270169Z",
     "iopub.status.busy": "2025-07-15T15:59:16.269862Z",
     "iopub.status.idle": "2025-07-15T15:59:18.034063Z",
     "shell.execute_reply": "2025-07-15T15:59:18.033272Z"
    },
    "papermill": {
     "duration": 1.774244,
     "end_time": "2025-07-15T15:59:18.035758",
     "exception": false,
     "start_time": "2025-07-15T15:59:16.261514",
     "status": "completed"
    },
    "tags": []
   },
   "outputs": [],
   "source": [
    "from sklearn.preprocessing import PowerTransformer\n",
    "skew_values = df.skew(numeric_only=True)\n",
    "highly_skewed_cols=skew_values[skew_values.abs()>1].index.tolist()\n",
    "pt = PowerTransformer(method='yeo-johnson')  # Works with 0 and negative values\n",
    "df_transformed = df.copy()\n",
    "df_transformed[highly_skewed_cols] = pt.fit_transform(df[highly_skewed_cols])"
   ]
  },
  {
   "cell_type": "code",
   "execution_count": 13,
   "id": "a13c7f48",
   "metadata": {
    "execution": {
     "iopub.execute_input": "2025-07-15T15:59:18.052610Z",
     "iopub.status.busy": "2025-07-15T15:59:18.051836Z",
     "iopub.status.idle": "2025-07-15T15:59:18.065439Z",
     "shell.execute_reply": "2025-07-15T15:59:18.064404Z"
    },
    "papermill": {
     "duration": 0.023763,
     "end_time": "2025-07-15T15:59:18.067047",
     "exception": false,
     "start_time": "2025-07-15T15:59:18.043284",
     "status": "completed"
    },
    "tags": []
   },
   "outputs": [],
   "source": [
    "df_transformed.skew(numeric_only=True) \n",
    "df=df_transformed"
   ]
  },
  {
   "cell_type": "code",
   "execution_count": 14,
   "id": "94c51a8f",
   "metadata": {
    "execution": {
     "iopub.execute_input": "2025-07-15T15:59:18.083833Z",
     "iopub.status.busy": "2025-07-15T15:59:18.083486Z",
     "iopub.status.idle": "2025-07-15T15:59:18.223567Z",
     "shell.execute_reply": "2025-07-15T15:59:18.222677Z"
    },
    "papermill": {
     "duration": 0.150149,
     "end_time": "2025-07-15T15:59:18.225200",
     "exception": false,
     "start_time": "2025-07-15T15:59:18.075051",
     "status": "completed"
    },
    "tags": []
   },
   "outputs": [],
   "source": [
    "from sklearn.preprocessing import PowerTransformer\n",
    "skew_values = test_df.skew(numeric_only=True)\n",
    "highly_skewed_cols=skew_values[skew_values.abs()>1].index.tolist()\n",
    "pt = PowerTransformer(method='yeo-johnson')  # Works with 0 and negative values\n",
    "test_df_transformed = test_df.copy()\n",
    "test_df_transformed[highly_skewed_cols] = pt.fit_transform(test_df[highly_skewed_cols])"
   ]
  },
  {
   "cell_type": "code",
   "execution_count": 15,
   "id": "5e82ed9b",
   "metadata": {
    "execution": {
     "iopub.execute_input": "2025-07-15T15:59:18.242029Z",
     "iopub.status.busy": "2025-07-15T15:59:18.241271Z",
     "iopub.status.idle": "2025-07-15T15:59:18.252134Z",
     "shell.execute_reply": "2025-07-15T15:59:18.251405Z"
    },
    "papermill": {
     "duration": 0.020943,
     "end_time": "2025-07-15T15:59:18.253817",
     "exception": false,
     "start_time": "2025-07-15T15:59:18.232874",
     "status": "completed"
    },
    "tags": []
   },
   "outputs": [],
   "source": [
    "test_df_transformed.skew(numeric_only=True) \n",
    "test_df=test_df_transformed"
   ]
  },
  {
   "cell_type": "code",
   "execution_count": 16,
   "id": "1190bcf8",
   "metadata": {
    "execution": {
     "iopub.execute_input": "2025-07-15T15:59:18.270423Z",
     "iopub.status.busy": "2025-07-15T15:59:18.270105Z",
     "iopub.status.idle": "2025-07-15T15:59:18.282494Z",
     "shell.execute_reply": "2025-07-15T15:59:18.281407Z"
    },
    "papermill": {
     "duration": 0.022446,
     "end_time": "2025-07-15T15:59:18.284096",
     "exception": false,
     "start_time": "2025-07-15T15:59:18.261650",
     "status": "completed"
    },
    "tags": []
   },
   "outputs": [
    {
     "name": "stdout",
     "output_type": "stream",
     "text": [
      "<class 'pandas.core.frame.DataFrame'>\n",
      "RangeIndex: 10000 entries, 0 to 9999\n",
      "Data columns (total 19 columns):\n",
      " #   Column         Non-Null Count  Dtype  \n",
      "---  ------         --------------  -----  \n",
      " 0   id             10000 non-null  int64  \n",
      " 1   N_Days         10000 non-null  float64\n",
      " 2   Drug           5681 non-null   float64\n",
      " 3   Age            10000 non-null  float64\n",
      " 4   Sex            10000 non-null  float64\n",
      " 5   Ascites        5684 non-null   float64\n",
      " 6   Hepatomegaly   5679 non-null   float64\n",
      " 7   Spiders        5680 non-null   float64\n",
      " 8   Edema          10000 non-null  float64\n",
      " 9   Bilirubin      10000 non-null  float64\n",
      " 10  Cholesterol    4482 non-null   float64\n",
      " 11  Albumin        10000 non-null  float64\n",
      " 12  Copper         5606 non-null   float64\n",
      " 13  Alk_Phos       5677 non-null   float64\n",
      " 14  SGOT           5674 non-null   float64\n",
      " 15  Tryglicerides  4449 non-null   float64\n",
      " 16  Platelets      9641 non-null   float64\n",
      " 17  Prothrombin    9981 non-null   float64\n",
      " 18  Stage          10000 non-null  float64\n",
      "dtypes: float64(18), int64(1)\n",
      "memory usage: 1.4 MB\n"
     ]
    }
   ],
   "source": [
    "test_df.info()"
   ]
  },
  {
   "cell_type": "code",
   "execution_count": 17,
   "id": "9be2c87f",
   "metadata": {
    "execution": {
     "iopub.execute_input": "2025-07-15T15:59:18.301183Z",
     "iopub.status.busy": "2025-07-15T15:59:18.300417Z",
     "iopub.status.idle": "2025-07-15T15:59:18.310240Z",
     "shell.execute_reply": "2025-07-15T15:59:18.308919Z"
    },
    "papermill": {
     "duration": 0.02021,
     "end_time": "2025-07-15T15:59:18.311969",
     "exception": false,
     "start_time": "2025-07-15T15:59:18.291759",
     "status": "completed"
    },
    "tags": []
   },
   "outputs": [
    {
     "name": "stdout",
     "output_type": "stream",
     "text": [
      "Columns with missing values:\n",
      "Drug             6585\n",
      "Ascites          6576\n",
      "Hepatomegaly     6587\n",
      "Spiders          6586\n",
      "Cholesterol      8416\n",
      "Copper           6665\n",
      "Alk_Phos         6591\n",
      "SGOT             6590\n",
      "Tryglicerides    8445\n",
      "Platelets         556\n",
      "Prothrombin        21\n",
      "dtype: int64\n"
     ]
    }
   ],
   "source": [
    "# Shows count of missing values per column\n",
    "missing_counts = df.isnull().sum()\n",
    "\n",
    "# Shows only columns with at least 1 missing value\n",
    "missing_cols = missing_counts[missing_counts > 0]\n",
    "\n",
    "print(\"Columns with missing values:\")\n",
    "print(missing_cols)\n"
   ]
  },
  {
   "cell_type": "code",
   "execution_count": 18,
   "id": "8fe01774",
   "metadata": {
    "execution": {
     "iopub.execute_input": "2025-07-15T15:59:18.328496Z",
     "iopub.status.busy": "2025-07-15T15:59:18.328159Z",
     "iopub.status.idle": "2025-07-15T15:59:18.336888Z",
     "shell.execute_reply": "2025-07-15T15:59:18.335845Z"
    },
    "papermill": {
     "duration": 0.018612,
     "end_time": "2025-07-15T15:59:18.338293",
     "exception": false,
     "start_time": "2025-07-15T15:59:18.319681",
     "status": "completed"
    },
    "tags": []
   },
   "outputs": [
    {
     "name": "stdout",
     "output_type": "stream",
     "text": [
      "Columns with missing values:\n",
      "Drug             4319\n",
      "Ascites          4316\n",
      "Hepatomegaly     4321\n",
      "Spiders          4320\n",
      "Cholesterol      5518\n",
      "Copper           4394\n",
      "Alk_Phos         4323\n",
      "SGOT             4326\n",
      "Tryglicerides    5551\n",
      "Platelets         359\n",
      "Prothrombin        19\n",
      "dtype: int64\n"
     ]
    }
   ],
   "source": [
    "# Shows count of missing values per column\n",
    "missing_counts = test_df.isnull().sum()\n",
    "\n",
    "# Shows only columns with at least 1 missing value\n",
    "missing_cols = missing_counts[missing_counts > 0]\n",
    "\n",
    "print(\"Columns with missing values:\")\n",
    "print(missing_cols)\n"
   ]
  },
  {
   "cell_type": "code",
   "execution_count": 19,
   "id": "6699db40",
   "metadata": {
    "execution": {
     "iopub.execute_input": "2025-07-15T15:59:18.354797Z",
     "iopub.status.busy": "2025-07-15T15:59:18.354490Z",
     "iopub.status.idle": "2025-07-15T15:59:19.624756Z",
     "shell.execute_reply": "2025-07-15T15:59:19.623812Z"
    },
    "papermill": {
     "duration": 1.280311,
     "end_time": "2025-07-15T15:59:19.626283",
     "exception": false,
     "start_time": "2025-07-15T15:59:18.345972",
     "status": "completed"
    },
    "tags": []
   },
   "outputs": [
    {
     "data": {
      "text/plain": [
       "<Axes: >"
      ]
     },
     "execution_count": 19,
     "metadata": {},
     "output_type": "execute_result"
    },
    {
     "data": {
      "image/png": "[encoded data removed]",
      "text/plain": [
       "<Figure size 1000x400 with 2 Axes>"
      ]
     },
     "metadata": {},
     "output_type": "display_data"
    }
   ],
   "source": [
    "import missingno as msno\n",
    "msno.matrix(df,figsize=(10,4))"
   ]
  },
  {
   "cell_type": "code",
   "execution_count": 20,
   "id": "9c733b8b",
   "metadata": {
    "execution": {
     "iopub.execute_input": "2025-07-15T15:59:19.646950Z",
     "iopub.status.busy": "2025-07-15T15:59:19.646474Z",
     "iopub.status.idle": "2025-07-15T15:59:19.651503Z",
     "shell.execute_reply": "2025-07-15T15:59:19.650540Z"
    },
    "papermill": {
     "duration": 0.016826,
     "end_time": "2025-07-15T15:59:19.652831",
     "exception": false,
     "start_time": "2025-07-15T15:59:19.636005",
     "status": "completed"
    },
    "tags": []
   },
   "outputs": [
    {
     "name": "stdout",
     "output_type": "stream",
     "text": [
      "0.14.4\n"
     ]
    }
   ],
   "source": [
    "import statsmodels\n",
    "print(statsmodels.__version__)\n"
   ]
  },
  {
   "cell_type": "code",
   "execution_count": 21,
   "id": "7b2756dc",
   "metadata": {
    "execution": {
     "iopub.execute_input": "2025-07-15T15:59:19.672669Z",
     "iopub.status.busy": "2025-07-15T15:59:19.672323Z",
     "iopub.status.idle": "2025-07-15T15:59:19.681077Z",
     "shell.execute_reply": "2025-07-15T15:59:19.680086Z"
    },
    "papermill": {
     "duration": 0.020661,
     "end_time": "2025-07-15T15:59:19.682708",
     "exception": false,
     "start_time": "2025-07-15T15:59:19.662047",
     "status": "completed"
    },
    "tags": []
   },
   "outputs": [],
   "source": [
    "import pandas as pd\n",
    "import numpy as np\n",
    "from scipy.stats import chi2\n",
    "\n",
    "def little_mcar_test(df):\n",
    "    \"\"\"\n",
    "    Manual implementation of Little's MCAR test for numeric data.\n",
    "    \"\"\"\n",
    "    df = df.copy()\n",
    "    df = df.dropna(axis=1, how='all')  # drop columns with all missing\n",
    "    df = df.dropna(axis=0, how='all')  # drop rows with all missing\n",
    "\n",
    "    patterns = df.isnull().astype(int)\n",
    "    pattern_groups = patterns.groupby(list(df.columns)).size().reset_index().rename(columns={0: 'count'})\n",
    "    \n",
    "    mu_hat = df.mean()\n",
    "    cov_hat = df.cov()\n",
    "\n",
    "    chi_square = 0\n",
    "    total_count = 0\n",
    "\n",
    "    for i, row in pattern_groups.iterrows():\n",
    "        cols_present = [col for col, miss in zip(df.columns, row[:-1]) if miss == 0]\n",
    "        sub_df = df[cols_present].dropna()\n",
    "        n_g = row['count']\n",
    "        if len(cols_present) == 0 or len(sub_df) == 0:\n",
    "            continue\n",
    "        mu_g = sub_df.mean()\n",
    "        diff = mu_g - mu_hat[cols_present]\n",
    "        cov_g = cov_hat.loc[cols_present, cols_present]\n",
    "        try:\n",
    "            inv_cov = np.linalg.inv(cov_g)\n",
    "            chi_g = n_g * np.dot(np.dot(diff, inv_cov), diff.T)\n",
    "            chi_square += chi_g\n",
    "            total_count += n_g\n",
    "        except np.linalg.LinAlgError:\n",
    "            pass  # skip singular matrices\n",
    "\n",
    "    dof = pattern_groups.shape[0] - 1\n",
    "    p_value = 1 - chi2.cdf(chi_square, dof)\n",
    "\n",
    "    return chi_square, dof, p_value\n"
   ]
  },
  {
   "cell_type": "code",
   "execution_count": 22,
   "id": "e0b5abdb",
   "metadata": {
    "execution": {
     "iopub.execute_input": "2025-07-15T15:59:19.702756Z",
     "iopub.status.busy": "2025-07-15T15:59:19.702430Z",
     "iopub.status.idle": "2025-07-15T15:59:19.875023Z",
     "shell.execute_reply": "2025-07-15T15:59:19.873875Z"
    },
    "papermill": {
     "duration": 0.184666,
     "end_time": "2025-07-15T15:59:19.876734",
     "exception": false,
     "start_time": "2025-07-15T15:59:19.692068",
     "status": "completed"
    },
    "tags": []
   },
   "outputs": [
    {
     "name": "stdout",
     "output_type": "stream",
     "text": [
      "Little’s MCAR test: Chi2 = 257.94, dof = 29, p = 0.0000\n"
     ]
    }
   ],
   "source": [
    "# Select only numeric columns with missing values\n",
    "df_missing = df.select_dtypes(include=['float64', 'int64']).copy()\n",
    "df_missing = df_missing.loc[:, df_missing.isnull().any()]\n",
    "\n",
    "chi2_stat, dof, p = little_mcar_test(df_missing)\n",
    "print(f\"Little’s MCAR test: Chi2 = {chi2_stat:.2f}, dof = {dof}, p = {p:.4f}\")\n"
   ]
  },
  {
   "cell_type": "code",
   "execution_count": 23,
   "id": "9dc2c93b",
   "metadata": {
    "execution": {
     "iopub.execute_input": "2025-07-15T15:59:19.897240Z",
     "iopub.status.busy": "2025-07-15T15:59:19.896910Z",
     "iopub.status.idle": "2025-07-15T15:59:22.206989Z",
     "shell.execute_reply": "2025-07-15T15:59:22.206011Z"
    },
    "papermill": {
     "duration": 2.322782,
     "end_time": "2025-07-15T15:59:22.208722",
     "exception": false,
     "start_time": "2025-07-15T15:59:19.885940",
     "status": "completed"
    },
    "tags": []
   },
   "outputs": [],
   "source": [
    "from sklearn.experimental import enable_iterative_imputer  # noqa\n",
    "from sklearn.impute import IterativeImputer\n",
    "\n",
    "target_cols = ['Status_C', 'Status_CL', 'Status_D']      # <‑‑ add this line\n",
    "\n",
    "# --- Identify numeric feature columns that are *not* targets  ---\n",
    "numeric_cols = df.select_dtypes(include='number').columns.difference(target_cols)\n",
    "\n",
    "# --- Fit on training numeric features only ---\n",
    "imp = IterativeImputer(random_state=0)\n",
    "pt  = PowerTransformer(method=\"yeo-johnson\")\n",
    "\n",
    "X_train_num = df[numeric_cols]\n",
    "\n",
    "imp.fit(X_train_num)\n",
    "pt.fit(imp.transform(X_train_num))\n",
    "\n",
    "# --- Apply to train ---\n",
    "df.loc[:, numeric_cols] = pt.transform(imp.transform(X_train_num))\n",
    "\n",
    "# --- Apply to test (only existing columns, same order) ---\n",
    "common_cols = [c for c in numeric_cols if c in test_df.columns]\n",
    "test_df.loc[:, common_cols] = pt.transform(imp.transform(test_df[common_cols]))\n"
   ]
  },
  {
   "cell_type": "code",
   "execution_count": 24,
   "id": "63949ad6",
   "metadata": {
    "execution": {
     "iopub.execute_input": "2025-07-15T15:59:22.230707Z",
     "iopub.status.busy": "2025-07-15T15:59:22.230400Z",
     "iopub.status.idle": "2025-07-15T15:59:22.238302Z",
     "shell.execute_reply": "2025-07-15T15:59:22.237203Z"
    },
    "papermill": {
     "duration": 0.019566,
     "end_time": "2025-07-15T15:59:22.239879",
     "exception": false,
     "start_time": "2025-07-15T15:59:22.220313",
     "status": "completed"
    },
    "tags": []
   },
   "outputs": [
    {
     "name": "stdout",
     "output_type": "stream",
     "text": [
      "id               0\n",
      "N_Days           0\n",
      "Drug             0\n",
      "Age              0\n",
      "Sex              0\n",
      "Ascites          0\n",
      "Hepatomegaly     0\n",
      "Spiders          0\n",
      "Edema            0\n",
      "Bilirubin        0\n",
      "Cholesterol      0\n",
      "Albumin          0\n",
      "Copper           0\n",
      "Alk_Phos         0\n",
      "SGOT             0\n",
      "Tryglicerides    0\n",
      "Platelets        0\n",
      "Prothrombin      0\n",
      "Stage            0\n",
      "dtype: int64\n"
     ]
    }
   ],
   "source": [
    "print(test_df.isnull().sum())"
   ]
  },
  {
   "cell_type": "code",
   "execution_count": 25,
   "id": "2e065252",
   "metadata": {
    "execution": {
     "iopub.execute_input": "2025-07-15T15:59:22.260417Z",
     "iopub.status.busy": "2025-07-15T15:59:22.259686Z",
     "iopub.status.idle": "2025-07-15T15:59:22.270478Z",
     "shell.execute_reply": "2025-07-15T15:59:22.269741Z"
    },
    "papermill": {
     "duration": 0.02277,
     "end_time": "2025-07-15T15:59:22.272102",
     "exception": false,
     "start_time": "2025-07-15T15:59:22.249332",
     "status": "completed"
    },
    "tags": []
   },
   "outputs": [],
   "source": [
    "# 🔹 Step 0: Recreate target column from one-hot encoding\n",
    "df['Status'] = np.argmax(df[['Status_C', 'Status_CL', 'Status_D']].values, axis=1)\n",
    "\n",
    "# 🔹 Step 1: Define X and y\n",
    "X = df.drop(['id', 'Status', 'Status_C', 'Status_CL', 'Status_D'], axis=1)\n",
    "y = df['Status']\n"
   ]
  },
  {
   "cell_type": "code",
   "execution_count": 26,
   "id": "6d6eaf76",
   "metadata": {
    "execution": {
     "iopub.execute_input": "2025-07-15T15:59:22.292613Z",
     "iopub.status.busy": "2025-07-15T15:59:22.291722Z",
     "iopub.status.idle": "2025-07-15T15:59:25.152618Z",
     "shell.execute_reply": "2025-07-15T15:59:25.151696Z"
    },
    "papermill": {
     "duration": 2.872498,
     "end_time": "2025-07-15T15:59:25.154093",
     "exception": false,
     "start_time": "2025-07-15T15:59:22.281595",
     "status": "completed"
    },
    "tags": []
   },
   "outputs": [
    {
     "name": "stdout",
     "output_type": "stream",
     "text": [
      "[0]\tvalidation_0-mlogloss:1.06917\n",
      "[50]\tvalidation_0-mlogloss:0.63251\n",
      "[100]\tvalidation_0-mlogloss:0.56830\n",
      "[150]\tvalidation_0-mlogloss:0.53792\n",
      "[200]\tvalidation_0-mlogloss:0.51782\n",
      "[250]\tvalidation_0-mlogloss:0.50062\n",
      "[300]\tvalidation_0-mlogloss:0.48722\n",
      "[350]\tvalidation_0-mlogloss:0.47564\n",
      "[400]\tvalidation_0-mlogloss:0.46620\n",
      "[450]\tvalidation_0-mlogloss:0.45775\n",
      "[499]\tvalidation_0-mlogloss:0.45184\n"
     ]
    },
    {
     "data": {
      "text/html": [
       "<style>#sk-container-id-1 {color: black;background-color: white;}#sk-container-id-1 pre{padding: 0;}#sk-container-id-1 div.sk-toggleable {background-color: white;}#sk-container-id-1 label.sk-toggleable__label {cursor: pointer;display: block;width: 100%;margin-bottom: 0;padding: 0.3em;box-sizing: border-box;text-align: center;}#sk-container-id-1 label.sk-toggleable__label-arrow:before {content: \"▸\";float: left;margin-right: 0.25em;color: #696969;}#sk-container-id-1 label.sk-toggleable__label-arrow:hover:before {color: black;}#sk-container-id-1 div.sk-estimator:hover label.sk-toggleable__label-arrow:before {color: black;}#sk-container-id-1 div.sk-toggleable__content {max-height: 0;max-width: 0;overflow: hidden;text-align: left;background-color: #f0f8ff;}#sk-container-id-1 div.sk-toggleable__content pre {margin: 0.2em;color: black;border-radius: 0.25em;background-color: #f0f8ff;}#sk-container-id-1 input.sk-toggleable__control:checked~div.sk-toggleable__content {max-height: 200px;max-width: 100%;overflow: auto;}#sk-container-id-1 input.sk-toggleable__control:checked~label.sk-toggleable__label-arrow:before {content: \"▾\";}#sk-container-id-1 div.sk-estimator input.sk-toggleable__control:checked~label.sk-toggleable__label {background-color: #d4ebff;}#sk-container-id-1 div.sk-label input.sk-toggleable__control:checked~label.sk-toggleable__label {background-color: #d4ebff;}#sk-container-id-1 input.sk-hidden--visually {border: 0;clip: rect(1px 1px 1px 1px);clip: rect(1px, 1px, 1px, 1px);height: 1px;margin: -1px;overflow: hidden;padding: 0;position: absolute;width: 1px;}#sk-container-id-1 div.sk-estimator {font-family: monospace;background-color: #f0f8ff;border: 1px dotted black;border-radius: 0.25em;box-sizing: border-box;margin-bottom: 0.5em;}#sk-container-id-1 div.sk-estimator:hover {background-color: #d4ebff;}#sk-container-id-1 div.sk-parallel-item::after {content: \"\";width: 100%;border-bottom: 1px solid gray;flex-grow: 1;}#sk-container-id-1 div.sk-label:hover label.sk-toggleable__label {background-color: #d4ebff;}#sk-container-id-1 div.sk-serial::before {content: \"\";position: absolute;border-left: 1px solid gray;box-sizing: border-box;top: 0;bottom: 0;left: 50%;z-index: 0;}#sk-container-id-1 div.sk-serial {display: flex;flex-direction: column;align-items: center;background-color: white;padding-right: 0.2em;padding-left: 0.2em;position: relative;}#sk-container-id-1 div.sk-item {position: relative;z-index: 1;}#sk-container-id-1 div.sk-parallel {display: flex;align-items: stretch;justify-content: center;background-color: white;position: relative;}#sk-container-id-1 div.sk-item::before, #sk-container-id-1 div.sk-parallel-item::before {content: \"\";position: absolute;border-left: 1px solid gray;box-sizing: border-box;top: 0;bottom: 0;left: 50%;z-index: -1;}#sk-container-id-1 div.sk-parallel-item {display: flex;flex-direction: column;z-index: 1;position: relative;background-color: white;}#sk-container-id-1 div.sk-parallel-item:first-child::after {align-self: flex-end;width: 50%;}#sk-container-id-1 div.sk-parallel-item:last-child::after {align-self: flex-start;width: 50%;}#sk-container-id-1 div.sk-parallel-item:only-child::after {width: 0;}#sk-container-id-1 div.sk-dashed-wrapped {border: 1px dashed gray;margin: 0 0.4em 0.5em 0.4em;box-sizing: border-box;padding-bottom: 0.4em;background-color: white;}#sk-container-id-1 div.sk-label label {font-family: monospace;font-weight: bold;display: inline-block;line-height: 1.2em;}#sk-container-id-1 div.sk-label-container {text-align: center;}#sk-container-id-1 div.sk-container {/* jupyter's `normalize.less` sets `[hidden] { display: none; }` but bootstrap.min.css set `[hidden] { display: none !important; }` so we also need the `!important` here to be able to override the default hidden behavior on the sphinx rendered scikit-learn.org. See: https://github.com/scikit-learn/scikit-learn/issues/21755 */display: inline-block !important;position: relative;}#sk-container-id-1 div.sk-text-repr-fallback {display: none;}</style><div id=\"sk-container-id-1\" class=\"sk-top-container\"><div class=\"sk-text-repr-fallback\"><pre>XGBClassifier(base_score=None, booster=None, callbacks=None,\n",
       "              colsample_bylevel=None, colsample_bynode=None,\n",
       "              colsample_bytree=0.8, device=None, early_stopping_rounds=None,\n",
       "              enable_categorical=False, eval_metric=&#x27;mlogloss&#x27;,\n",
       "              feature_types=None, gamma=0.1, grow_policy=None,\n",
       "              importance_type=None, interaction_constraints=None,\n",
       "              learning_rate=0.05, max_bin=None, max_cat_threshold=None,\n",
       "              max_cat_to_onehot=None, max_delta_step=None, max_depth=4,\n",
       "              max_leaves=None, min_child_weight=2, missing=nan,\n",
       "              monotone_constraints=None, multi_strategy=None, n_estimators=500,\n",
       "              n_jobs=None, num_class=3, num_parallel_tree=None, ...)</pre><b>In a Jupyter environment, please rerun this cell to show the HTML representation or trust the notebook. <br />On GitHub, the HTML representation is unable to render, please try loading this page with nbviewer.org.</b></div><div class=\"sk-container\" hidden><div class=\"sk-item\"><div class=\"sk-estimator sk-toggleable\"><input class=\"sk-toggleable__control sk-hidden--visually\" id=\"sk-estimator-id-1\" type=\"checkbox\" checked><label for=\"sk-estimator-id-1\" class=\"sk-toggleable__label sk-toggleable__label-arrow\">XGBClassifier</label><div class=\"sk-toggleable__content\"><pre>XGBClassifier(base_score=None, booster=None, callbacks=None,\n",
       "              colsample_bylevel=None, colsample_bynode=None,\n",
       "              colsample_bytree=0.8, device=None, early_stopping_rounds=None,\n",
       "              enable_categorical=False, eval_metric=&#x27;mlogloss&#x27;,\n",
       "              feature_types=None, gamma=0.1, grow_policy=None,\n",
       "              importance_type=None, interaction_constraints=None,\n",
       "              learning_rate=0.05, max_bin=None, max_cat_threshold=None,\n",
       "              max_cat_to_onehot=None, max_delta_step=None, max_depth=4,\n",
       "              max_leaves=None, min_child_weight=2, missing=nan,\n",
       "              monotone_constraints=None, multi_strategy=None, n_estimators=500,\n",
       "              n_jobs=None, num_class=3, num_parallel_tree=None, ...)</pre></div></div></div></div></div>"
      ],
      "text/plain": [
       "XGBClassifier(base_score=None, booster=None, callbacks=None,\n",
       "              colsample_bylevel=None, colsample_bynode=None,\n",
       "              colsample_bytree=0.8, device=None, early_stopping_rounds=None,\n",
       "              enable_categorical=False, eval_metric='mlogloss',\n",
       "              feature_types=None, gamma=0.1, grow_policy=None,\n",
       "              importance_type=None, interaction_constraints=None,\n",
       "              learning_rate=0.05, max_bin=None, max_cat_threshold=None,\n",
       "              max_cat_to_onehot=None, max_delta_step=None, max_depth=4,\n",
       "              max_leaves=None, min_child_weight=2, missing=nan,\n",
       "              monotone_constraints=None, multi_strategy=None, n_estimators=500,\n",
       "              n_jobs=None, num_class=3, num_parallel_tree=None, ...)"
      ]
     },
     "execution_count": 26,
     "metadata": {},
     "output_type": "execute_result"
    }
   ],
   "source": [
    "import pandas as pd\n",
    "import numpy as np\n",
    "from sklearn.model_selection import train_test_split\n",
    "import xgboost as xgb\n",
    "from sklearn.utils.class_weight import compute_sample_weight\n",
    "\n",
    "# 🔹 Step 0: Assume df has these columns: 'id', 'Status_C', 'Status_CL', 'Status_D', and all features\n",
    "# 🔹 Reconstruct multiclass labels from one-hot\n",
    "df['Status'] = np.argmax(df[['Status_C', 'Status_CL', 'Status_D']].values, axis=1)\n",
    "\n",
    "# 🔹 Step 1: Prepare features and target\n",
    "X = df.drop(['id', 'Status', 'Status_C', 'Status_CL', 'Status_D'], axis=1)\n",
    "y = df['Status']\n",
    "\n",
    "# 🔹 Step 2: Train-test split\n",
    "X_train, X_test, y_train, y_test, id_train, id_test = train_test_split(\n",
    "    X, y, df['id'], test_size=0.2, stratify=y, random_state=42\n",
    ")\n",
    "\n",
    "# ─────────────────────────────────────────────────────────────────────────────\n",
    "# 3. Compute class‑balanced sample weights\n",
    "# ─────────────────────────────────────────────────────────────────────────────\n",
    "sample_weights = compute_sample_weight(class_weight=\"balanced\", y=y_train)\n",
    "\n",
    "# ─────────────────────────────────────────────────────────────────────────────\n",
    "# 4. Train XGBoost (multiclass, probability output, log‑loss eval)\n",
    "# ─────────────────────────────────────────────────────────────────────────────\n",
    "model = xgb.XGBClassifier(\n",
    "    objective=\"multi:softprob\",  # softmax probs\n",
    "    num_class=3,\n",
    "    eval_metric=\"mlogloss\",      # monitor log‑loss\n",
    "    use_label_encoder=False,\n",
    "    n_estimators=500,\n",
    "    learning_rate=0.05,\n",
    "    max_depth=4,\n",
    "    min_child_weight=2,\n",
    "    subsample=0.8,\n",
    "    colsample_bytree=0.8,\n",
    "    gamma=0.1,\n",
    "    reg_alpha=0.1,\n",
    "    reg_lambda=1,\n",
    "    random_state=42,\n",
    ")\n",
    "\n",
    "model.fit(\n",
    "    X_train,\n",
    "    y_train,\n",
    "    sample_weight=sample_weights,              # ⇐ class‑balance here\n",
    "    eval_set=[(X_test, y_test)],\n",
    "    verbose=50                                 # print every 50 boosting rounds\n",
    ")"
   ]
  },
  {
   "cell_type": "code",
   "execution_count": 27,
   "id": "eb3a20de",
   "metadata": {
    "execution": {
     "iopub.execute_input": "2025-07-15T15:59:25.245001Z",
     "iopub.status.busy": "2025-07-15T15:59:25.244693Z",
     "iopub.status.idle": "2025-07-15T15:59:25.472318Z",
     "shell.execute_reply": "2025-07-15T15:59:25.471424Z"
    },
    "papermill": {
     "duration": 0.242069,
     "end_time": "2025-07-15T15:59:25.473995",
     "exception": false,
     "start_time": "2025-07-15T15:59:25.231926",
     "status": "completed"
    },
    "tags": []
   },
   "outputs": [
    {
     "data": {
      "image/png": "[encoded data removed]",
      "text/plain": [
       "<Figure size 800x500 with 1 Axes>"
      ]
     },
     "metadata": {},
     "output_type": "display_data"
    }
   ],
   "source": [
    "import matplotlib.pyplot as plt\n",
    "\n",
    "# Extract training log-loss from model\n",
    "results = model.evals_result()\n",
    "\n",
    "# Plot\n",
    "plt.figure(figsize=(8, 5))\n",
    "plt.plot(results['validation_0']['mlogloss'], label='Validation Log Loss', color='blue')\n",
    "plt.xlabel(\"Boosting Rounds\")\n",
    "plt.ylabel(\"Log Loss\")\n",
    "plt.title(\"XGBoost Log Loss Over Iterations\")\n",
    "plt.legend()\n",
    "plt.grid(True)\n",
    "plt.tight_layout()\n",
    "plt.show()\n"
   ]
  },
  {
   "cell_type": "code",
   "execution_count": 28,
   "id": "95f09e7e",
   "metadata": {
    "execution": {
     "iopub.execute_input": "2025-07-15T15:59:25.498451Z",
     "iopub.status.busy": "2025-07-15T15:59:25.498047Z",
     "iopub.status.idle": "2025-07-15T15:59:25.566884Z",
     "shell.execute_reply": "2025-07-15T15:59:25.566201Z"
    },
    "papermill": {
     "duration": 0.082846,
     "end_time": "2025-07-15T15:59:25.568825",
     "exception": false,
     "start_time": "2025-07-15T15:59:25.485979",
     "status": "completed"
    },
    "tags": []
   },
   "outputs": [],
   "source": [
    "y_pred_proba=model.predict_proba(X_test)\n",
    "y_pred=model.predict(X_test)"
   ]
  },
  {
   "cell_type": "code",
   "execution_count": 29,
   "id": "8b25cfe9",
   "metadata": {
    "execution": {
     "iopub.execute_input": "2025-07-15T15:59:25.595035Z",
     "iopub.status.busy": "2025-07-15T15:59:25.594757Z",
     "iopub.status.idle": "2025-07-15T15:59:25.824157Z",
     "shell.execute_reply": "2025-07-15T15:59:25.823273Z"
    },
    "papermill": {
     "duration": 0.242987,
     "end_time": "2025-07-15T15:59:25.825839",
     "exception": false,
     "start_time": "2025-07-15T15:59:25.582852",
     "status": "completed"
    },
    "tags": []
   },
   "outputs": [
    {
     "name": "stdout",
     "output_type": "stream",
     "text": [
      "Log Loss: 0.4518\n",
      "Accuracy: 0.8287\n",
      "Classification Report:\n",
      "\n",
      "              precision    recall  f1-score   support\n",
      "\n",
      "           C       0.91      0.86      0.89      2036\n",
      "          CL       0.25      0.46      0.32        76\n",
      "           D       0.75      0.78      0.76       888\n",
      "\n",
      "    accuracy                           0.83      3000\n",
      "   macro avg       0.64      0.70      0.66      3000\n",
      "weighted avg       0.85      0.83      0.84      3000\n",
      "\n"
     ]
    },
    {
     "data": {
      "image/png": "[encoded data removed]",
      "text/plain": [
       "<Figure size 640x480 with 2 Axes>"
      ]
     },
     "metadata": {},
     "output_type": "display_data"
    }
   ],
   "source": [
    "from sklearn.metrics import log_loss,accuracy_score,classification_report,confusion_matrix\n",
    "import seaborn as sns\n",
    "import matplotlib.pyplot as plt\n",
    "logloss=log_loss(y_test,y_pred_proba)\n",
    "acc=accuracy_score(y_test,y_pred)\n",
    "print(f\"Log Loss: {logloss:.4f}\")\n",
    "print(f\"Accuracy: {acc:.4f}\")\n",
    "print(\"Classification Report:\\n\")\n",
    "print(classification_report(y_test, y_pred, target_names=['C', 'CL', 'D']))\n",
    "cm = confusion_matrix(y_test, y_pred)\n",
    "sns.heatmap(cm, annot=True, fmt='d', xticklabels=['C', 'CL', 'D'], yticklabels=['C', 'CL', 'D'])\n",
    "plt.xlabel('Predicted')\n",
    "plt.ylabel('Actual')\n",
    "plt.title('Confusion Matrix')\n",
    "plt.show()"
   ]
  },
  {
   "cell_type": "code",
   "execution_count": 30,
   "id": "fd327d25",
   "metadata": {
    "execution": {
     "iopub.execute_input": "2025-07-15T15:59:25.850570Z",
     "iopub.status.busy": "2025-07-15T15:59:25.850082Z",
     "iopub.status.idle": "2025-07-15T15:59:25.911338Z",
     "shell.execute_reply": "2025-07-15T15:59:25.910583Z"
    },
    "papermill": {
     "duration": 0.075501,
     "end_time": "2025-07-15T15:59:25.913111",
     "exception": false,
     "start_time": "2025-07-15T15:59:25.837610",
     "status": "completed"
    },
    "tags": []
   },
   "outputs": [],
   "source": [
    "# 🔹 Step 4: Predict class probabilities\n",
    "y_pred_proba = model.predict_proba(X_test)  # shape = (n_samples, 3)\n",
    "\n",
    "# 🔹 Step 5: Prepare output for submission\n",
    "output = pd.DataFrame(y_pred_proba, columns=['Status_C', 'Status_CL', 'Status_D'])\n",
    "output['id'] = id_test.values\n",
    "output = output[['id', 'Status_C', 'Status_CL', 'Status_D']]\n",
    "\n",
    "# 🔹 Step 6: Save to CSV\n",
    "output.to_csv('submission.csv', index=False)"
   ]
  },
  {
   "cell_type": "code",
   "execution_count": 31,
   "id": "d3a51dfd",
   "metadata": {
    "execution": {
     "iopub.execute_input": "2025-07-15T15:59:25.938544Z",
     "iopub.status.busy": "2025-07-15T15:59:25.937895Z",
     "iopub.status.idle": "2025-07-15T15:59:25.947471Z",
     "shell.execute_reply": "2025-07-15T15:59:25.946539Z"
    },
    "papermill": {
     "duration": 0.023786,
     "end_time": "2025-07-15T15:59:25.949111",
     "exception": false,
     "start_time": "2025-07-15T15:59:25.925325",
     "status": "completed"
    },
    "tags": []
   },
   "outputs": [
    {
     "name": "stdout",
     "output_type": "stream",
     "text": [
      "Number of rows in submission.csv: 3000\n"
     ]
    }
   ],
   "source": [
    "# 🔹 Step 7: Verify number of rows in saved CSV\n",
    "submission_check = pd.read_csv('submission.csv')\n",
    "print(\"Number of rows in submission.csv:\", len(submission_check))\n"
   ]
  },
  {
   "cell_type": "code",
   "execution_count": 32,
   "id": "24c10903",
   "metadata": {
    "execution": {
     "iopub.execute_input": "2025-07-15T15:59:25.974883Z",
     "iopub.status.busy": "2025-07-15T15:59:25.974574Z",
     "iopub.status.idle": "2025-07-15T15:59:25.979558Z",
     "shell.execute_reply": "2025-07-15T15:59:25.978683Z"
    },
    "papermill": {
     "duration": 0.019311,
     "end_time": "2025-07-15T15:59:25.980853",
     "exception": false,
     "start_time": "2025-07-15T15:59:25.961542",
     "status": "completed"
    },
    "tags": []
   },
   "outputs": [
    {
     "name": "stdout",
     "output_type": "stream",
     "text": [
      "X_test shape: (3000, 18)\n",
      "id_test length: 3000\n"
     ]
    }
   ],
   "source": [
    "print(\"X_test shape:\", X_test.shape)\n",
    "print(\"id_test length:\", len(id_test))\n"
   ]
  },
  {
   "cell_type": "code",
   "execution_count": 33,
   "id": "5bf1bf94",
   "metadata": {
    "execution": {
     "iopub.execute_input": "2025-07-15T15:59:26.005724Z",
     "iopub.status.busy": "2025-07-15T15:59:26.005394Z",
     "iopub.status.idle": "2025-07-15T15:59:28.521323Z",
     "shell.execute_reply": "2025-07-15T15:59:28.520341Z"
    },
    "papermill": {
     "duration": 2.530333,
     "end_time": "2025-07-15T15:59:28.522913",
     "exception": false,
     "start_time": "2025-07-15T15:59:25.992580",
     "status": "completed"
    },
    "tags": []
   },
   "outputs": [
    {
     "name": "stdout",
     "output_type": "stream",
     "text": [
      "[0]\tvalidation_0-mlogloss:1.06917\n",
      "[50]\tvalidation_0-mlogloss:0.63251\n",
      "[100]\tvalidation_0-mlogloss:0.56830\n",
      "[150]\tvalidation_0-mlogloss:0.53792\n",
      "[200]\tvalidation_0-mlogloss:0.51782\n",
      "[250]\tvalidation_0-mlogloss:0.50062\n",
      "[300]\tvalidation_0-mlogloss:0.48722\n",
      "[350]\tvalidation_0-mlogloss:0.47564\n",
      "[400]\tvalidation_0-mlogloss:0.46620\n",
      "[450]\tvalidation_0-mlogloss:0.45775\n",
      "[499]\tvalidation_0-mlogloss:0.45184\n"
     ]
    },
    {
     "data": {
      "text/html": [
       "<style>#sk-container-id-2 {color: black;background-color: white;}#sk-container-id-2 pre{padding: 0;}#sk-container-id-2 div.sk-toggleable {background-color: white;}#sk-container-id-2 label.sk-toggleable__label {cursor: pointer;display: block;width: 100%;margin-bottom: 0;padding: 0.3em;box-sizing: border-box;text-align: center;}#sk-container-id-2 label.sk-toggleable__label-arrow:before {content: \"▸\";float: left;margin-right: 0.25em;color: #696969;}#sk-container-id-2 label.sk-toggleable__label-arrow:hover:before {color: black;}#sk-container-id-2 div.sk-estimator:hover label.sk-toggleable__label-arrow:before {color: black;}#sk-container-id-2 div.sk-toggleable__content {max-height: 0;max-width: 0;overflow: hidden;text-align: left;background-color: #f0f8ff;}#sk-container-id-2 div.sk-toggleable__content pre {margin: 0.2em;color: black;border-radius: 0.25em;background-color: #f0f8ff;}#sk-container-id-2 input.sk-toggleable__control:checked~div.sk-toggleable__content {max-height: 200px;max-width: 100%;overflow: auto;}#sk-container-id-2 input.sk-toggleable__control:checked~label.sk-toggleable__label-arrow:before {content: \"▾\";}#sk-container-id-2 div.sk-estimator input.sk-toggleable__control:checked~label.sk-toggleable__label {background-color: #d4ebff;}#sk-container-id-2 div.sk-label input.sk-toggleable__control:checked~label.sk-toggleable__label {background-color: #d4ebff;}#sk-container-id-2 input.sk-hidden--visually {border: 0;clip: rect(1px 1px 1px 1px);clip: rect(1px, 1px, 1px, 1px);height: 1px;margin: -1px;overflow: hidden;padding: 0;position: absolute;width: 1px;}#sk-container-id-2 div.sk-estimator {font-family: monospace;background-color: #f0f8ff;border: 1px dotted black;border-radius: 0.25em;box-sizing: border-box;margin-bottom: 0.5em;}#sk-container-id-2 div.sk-estimator:hover {background-color: #d4ebff;}#sk-container-id-2 div.sk-parallel-item::after {content: \"\";width: 100%;border-bottom: 1px solid gray;flex-grow: 1;}#sk-container-id-2 div.sk-label:hover label.sk-toggleable__label {background-color: #d4ebff;}#sk-container-id-2 div.sk-serial::before {content: \"\";position: absolute;border-left: 1px solid gray;box-sizing: border-box;top: 0;bottom: 0;left: 50%;z-index: 0;}#sk-container-id-2 div.sk-serial {display: flex;flex-direction: column;align-items: center;background-color: white;padding-right: 0.2em;padding-left: 0.2em;position: relative;}#sk-container-id-2 div.sk-item {position: relative;z-index: 1;}#sk-container-id-2 div.sk-parallel {display: flex;align-items: stretch;justify-content: center;background-color: white;position: relative;}#sk-container-id-2 div.sk-item::before, #sk-container-id-2 div.sk-parallel-item::before {content: \"\";position: absolute;border-left: 1px solid gray;box-sizing: border-box;top: 0;bottom: 0;left: 50%;z-index: -1;}#sk-container-id-2 div.sk-parallel-item {display: flex;flex-direction: column;z-index: 1;position: relative;background-color: white;}#sk-container-id-2 div.sk-parallel-item:first-child::after {align-self: flex-end;width: 50%;}#sk-container-id-2 div.sk-parallel-item:last-child::after {align-self: flex-start;width: 50%;}#sk-container-id-2 div.sk-parallel-item:only-child::after {width: 0;}#sk-container-id-2 div.sk-dashed-wrapped {border: 1px dashed gray;margin: 0 0.4em 0.5em 0.4em;box-sizing: border-box;padding-bottom: 0.4em;background-color: white;}#sk-container-id-2 div.sk-label label {font-family: monospace;font-weight: bold;display: inline-block;line-height: 1.2em;}#sk-container-id-2 div.sk-label-container {text-align: center;}#sk-container-id-2 div.sk-container {/* jupyter's `normalize.less` sets `[hidden] { display: none; }` but bootstrap.min.css set `[hidden] { display: none !important; }` so we also need the `!important` here to be able to override the default hidden behavior on the sphinx rendered scikit-learn.org. See: https://github.com/scikit-learn/scikit-learn/issues/21755 */display: inline-block !important;position: relative;}#sk-container-id-2 div.sk-text-repr-fallback {display: none;}</style><div id=\"sk-container-id-2\" class=\"sk-top-container\"><div class=\"sk-text-repr-fallback\"><pre>XGBClassifier(base_score=None, booster=None, callbacks=None,\n",
       "              colsample_bylevel=None, colsample_bynode=None,\n",
       "              colsample_bytree=0.8, device=None, early_stopping_rounds=None,\n",
       "              enable_categorical=False, eval_metric=&#x27;mlogloss&#x27;,\n",
       "              feature_types=None, gamma=0.1, grow_policy=None,\n",
       "              importance_type=None, interaction_constraints=None,\n",
       "              learning_rate=0.05, max_bin=None, max_cat_threshold=None,\n",
       "              max_cat_to_onehot=None, max_delta_step=None, max_depth=4,\n",
       "              max_leaves=None, min_child_weight=2, missing=nan,\n",
       "              monotone_constraints=None, multi_strategy=None, n_estimators=500,\n",
       "              n_jobs=None, num_class=3, num_parallel_tree=None, ...)</pre><b>In a Jupyter environment, please rerun this cell to show the HTML representation or trust the notebook. <br />On GitHub, the HTML representation is unable to render, please try loading this page with nbviewer.org.</b></div><div class=\"sk-container\" hidden><div class=\"sk-item\"><div class=\"sk-estimator sk-toggleable\"><input class=\"sk-toggleable__control sk-hidden--visually\" id=\"sk-estimator-id-2\" type=\"checkbox\" checked><label for=\"sk-estimator-id-2\" class=\"sk-toggleable__label sk-toggleable__label-arrow\">XGBClassifier</label><div class=\"sk-toggleable__content\"><pre>XGBClassifier(base_score=None, booster=None, callbacks=None,\n",
       "              colsample_bylevel=None, colsample_bynode=None,\n",
       "              colsample_bytree=0.8, device=None, early_stopping_rounds=None,\n",
       "              enable_categorical=False, eval_metric=&#x27;mlogloss&#x27;,\n",
       "              feature_types=None, gamma=0.1, grow_policy=None,\n",
       "              importance_type=None, interaction_constraints=None,\n",
       "              learning_rate=0.05, max_bin=None, max_cat_threshold=None,\n",
       "              max_cat_to_onehot=None, max_delta_step=None, max_depth=4,\n",
       "              max_leaves=None, min_child_weight=2, missing=nan,\n",
       "              monotone_constraints=None, multi_strategy=None, n_estimators=500,\n",
       "              n_jobs=None, num_class=3, num_parallel_tree=None, ...)</pre></div></div></div></div></div>"
      ],
      "text/plain": [
       "XGBClassifier(base_score=None, booster=None, callbacks=None,\n",
       "              colsample_bylevel=None, colsample_bynode=None,\n",
       "              colsample_bytree=0.8, device=None, early_stopping_rounds=None,\n",
       "              enable_categorical=False, eval_metric='mlogloss',\n",
       "              feature_types=None, gamma=0.1, grow_policy=None,\n",
       "              importance_type=None, interaction_constraints=None,\n",
       "              learning_rate=0.05, max_bin=None, max_cat_threshold=None,\n",
       "              max_cat_to_onehot=None, max_delta_step=None, max_depth=4,\n",
       "              max_leaves=None, min_child_weight=2, missing=nan,\n",
       "              monotone_constraints=None, multi_strategy=None, n_estimators=500,\n",
       "              n_jobs=None, num_class=3, num_parallel_tree=None, ...)"
      ]
     },
     "execution_count": 33,
     "metadata": {},
     "output_type": "execute_result"
    }
   ],
   "source": [
    "import pandas as pd\n",
    "import numpy as np\n",
    "from sklearn.model_selection import train_test_split\n",
    "from sklearn.utils.class_weight import compute_class_weight\n",
    "import xgboost as xgb\n",
    "\n",
    "# 🔹 Step 0: Reconstruct multiclass labels from one-hot columns\n",
    "df['Status'] = np.argmax(df[['Status_C', 'Status_CL', 'Status_D']].values, axis=1)\n",
    "\n",
    "# 🔹 Step 1: Prepare features and target\n",
    "X = df.drop(['id', 'Status', 'Status_C', 'Status_CL', 'Status_D'], axis=1)\n",
    "y = df['Status']\n",
    "\n",
    "# 🔹 Step 2: Train-test split (stratified)\n",
    "X_train, X_test, y_train, y_test, id_train, id_test = train_test_split(\n",
    "    X, y, df['id'], test_size=0.2, stratify=y, random_state=42\n",
    ")\n",
    "\n",
    "# ─────────────────────────────────────────────────────────────────────────────\n",
    "# 3. Compute class-balanced sample weights\n",
    "# ─────────────────────────────────────────────────────────────────────────────\n",
    "# Compute weights for each class (inverse frequency)\n",
    "class_weights = compute_class_weight(class_weight='balanced', classes=np.unique(y_train), y=y_train)\n",
    "\n",
    "# Map weights to each sample in y_train\n",
    "weight_map = {cls: wt for cls, wt in zip(np.unique(y_train), class_weights)}\n",
    "sample_weights = y_train.map(weight_map)\n",
    "\n",
    "# ─────────────────────────────────────────────────────────────────────────────\n",
    "# 4. Train XGBoost (multiclass, probability output, log‑loss eval)\n",
    "# ─────────────────────────────────────────────────────────────────────────────\n",
    "model = xgb.XGBClassifier(\n",
    "    objective=\"multi:softprob\",  # softmax probs\n",
    "    num_class=3,\n",
    "    eval_metric=\"mlogloss\",      # monitor log‑loss\n",
    "    use_label_encoder=False,\n",
    "    n_estimators=500,\n",
    "    learning_rate=0.05,\n",
    "    max_depth=4,\n",
    "    min_child_weight=2,\n",
    "    subsample=0.8,\n",
    "    colsample_bytree=0.8,\n",
    "    gamma=0.1,\n",
    "    reg_alpha=0.1,\n",
    "    reg_lambda=1,\n",
    "    random_state=42,\n",
    ")\n",
    "\n",
    "# Fit with per-sample weights\n",
    "model.fit(\n",
    "    X_train,\n",
    "    y_train,\n",
    "    sample_weight=sample_weights,\n",
    "    eval_set=[(X_test, y_test)],\n",
    "    verbose=50\n",
    ")\n"
   ]
  },
  {
   "cell_type": "code",
   "execution_count": 34,
   "id": "f4b84c18",
   "metadata": {
    "execution": {
     "iopub.execute_input": "2025-07-15T15:59:28.549479Z",
     "iopub.status.busy": "2025-07-15T15:59:28.548944Z",
     "iopub.status.idle": "2025-07-15T15:59:28.553707Z",
     "shell.execute_reply": "2025-07-15T15:59:28.552821Z"
    },
    "papermill": {
     "duration": 0.019542,
     "end_time": "2025-07-15T15:59:28.555113",
     "exception": false,
     "start_time": "2025-07-15T15:59:28.535571",
     "status": "completed"
    },
    "tags": []
   },
   "outputs": [
    {
     "name": "stdout",
     "output_type": "stream",
     "text": [
      "Class Weights: {0: 0.4910988336402701, 1: 13.114754098360656, 2: 1.1267605633802817}\n"
     ]
    }
   ],
   "source": [
    "print(\"Class Weights:\", weight_map)\n"
   ]
  },
  {
   "cell_type": "code",
   "execution_count": 35,
   "id": "a71901b4",
   "metadata": {
    "execution": {
     "iopub.execute_input": "2025-07-15T15:59:28.581880Z",
     "iopub.status.busy": "2025-07-15T15:59:28.581097Z",
     "iopub.status.idle": "2025-07-15T15:59:28.632237Z",
     "shell.execute_reply": "2025-07-15T15:59:28.631275Z"
    },
    "papermill": {
     "duration": 0.066232,
     "end_time": "2025-07-15T15:59:28.633955",
     "exception": false,
     "start_time": "2025-07-15T15:59:28.567723",
     "status": "completed"
    },
    "tags": []
   },
   "outputs": [
    {
     "name": "stdout",
     "output_type": "stream",
     "text": [
      "Classification Report:\n",
      "              precision    recall  f1-score   support\n",
      "\n",
      "           C       0.91      0.86      0.89      2036\n",
      "          CL       0.25      0.46      0.32        76\n",
      "           D       0.75      0.78      0.76       888\n",
      "\n",
      "    accuracy                           0.83      3000\n",
      "   macro avg       0.64      0.70      0.66      3000\n",
      "weighted avg       0.85      0.83      0.84      3000\n",
      "\n",
      "Confusion Matrix:\n",
      "[[1758   67  211]\n",
      " [  19   35   22]\n",
      " [ 156   39  693]]\n"
     ]
    }
   ],
   "source": [
    "from sklearn.metrics import classification_report, confusion_matrix\n",
    "\n",
    "y_pred = model.predict(X_test)\n",
    "\n",
    "print(\"Classification Report:\")\n",
    "print(classification_report(y_test, y_pred, target_names=[\"C\", \"CL\", \"D\"]))\n",
    "\n",
    "print(\"Confusion Matrix:\")\n",
    "print(confusion_matrix(y_test, y_pred))\n"
   ]
  },
  {
   "cell_type": "code",
   "execution_count": 36,
   "id": "a035f1f7",
   "metadata": {
    "execution": {
     "iopub.execute_input": "2025-07-15T15:59:28.660320Z",
     "iopub.status.busy": "2025-07-15T15:59:28.660002Z",
     "iopub.status.idle": "2025-07-15T15:59:28.700598Z",
     "shell.execute_reply": "2025-07-15T15:59:28.698782Z"
    },
    "papermill": {
     "duration": 0.055566,
     "end_time": "2025-07-15T15:59:28.702245",
     "exception": false,
     "start_time": "2025-07-15T15:59:28.646679",
     "status": "completed"
    },
    "tags": []
   },
   "outputs": [
    {
     "name": "stdout",
     "output_type": "stream",
     "text": [
      "Macro F1 Score: 0.6575011447728683\n"
     ]
    }
   ],
   "source": [
    "from sklearn.metrics import f1_score\n",
    "f1_macro = f1_score(y_test, model.predict(X_test), average='macro')\n",
    "print(\"Macro F1 Score:\", f1_macro)\n"
   ]
  },
  {
   "cell_type": "code",
   "execution_count": 37,
   "id": "03832080",
   "metadata": {
    "execution": {
     "iopub.execute_input": "2025-07-15T15:59:28.730926Z",
     "iopub.status.busy": "2025-07-15T15:59:28.730454Z",
     "iopub.status.idle": "2025-07-15T15:59:28.898079Z",
     "shell.execute_reply": "2025-07-15T15:59:28.897257Z"
    },
    "papermill": {
     "duration": 0.182849,
     "end_time": "2025-07-15T15:59:28.899680",
     "exception": false,
     "start_time": "2025-07-15T15:59:28.716831",
     "status": "completed"
    },
    "tags": []
   },
   "outputs": [
    {
     "data": {
      "image/png": "[encoded data removed]",
      "text/plain": [
       "<Figure size 640x480 with 1 Axes>"
      ]
     },
     "metadata": {},
     "output_type": "display_data"
    }
   ],
   "source": [
    "import matplotlib.pyplot as plt\n",
    "\n",
    "_, counts = np.unique(model.predict(X_test), return_counts=True)\n",
    "plt.bar([\"C\", \"CL\", \"D\"], counts)\n",
    "plt.title(\"Predicted Class Distribution\")\n",
    "plt.show()\n"
   ]
  },
  {
   "cell_type": "code",
   "execution_count": 38,
   "id": "a177bce1",
   "metadata": {
    "execution": {
     "iopub.execute_input": "2025-07-15T15:59:28.927997Z",
     "iopub.status.busy": "2025-07-15T15:59:28.927016Z",
     "iopub.status.idle": "2025-07-15T15:59:29.022026Z",
     "shell.execute_reply": "2025-07-15T15:59:29.021377Z"
    },
    "papermill": {
     "duration": 0.110855,
     "end_time": "2025-07-15T15:59:29.023925",
     "exception": false,
     "start_time": "2025-07-15T15:59:28.913070",
     "status": "completed"
    },
    "tags": []
   },
   "outputs": [],
   "source": [
    "# Predict class probabilities: shape = (n_samples, 3)\n",
    "y_pred_proba = model.predict_proba(test_df[X_train.columns])\n"
   ]
  },
  {
   "cell_type": "code",
   "execution_count": 39,
   "id": "aac53ba0",
   "metadata": {
    "execution": {
     "iopub.execute_input": "2025-07-15T15:59:29.055420Z",
     "iopub.status.busy": "2025-07-15T15:59:29.055058Z",
     "iopub.status.idle": "2025-07-15T15:59:29.061202Z",
     "shell.execute_reply": "2025-07-15T15:59:29.060584Z"
    },
    "papermill": {
     "duration": 0.021854,
     "end_time": "2025-07-15T15:59:29.062553",
     "exception": false,
     "start_time": "2025-07-15T15:59:29.040699",
     "status": "completed"
    },
    "tags": []
   },
   "outputs": [],
   "source": [
    "submission = pd.DataFrame(y_pred_proba, columns=['Status_C', 'Status_CL', 'Status_D'])\n",
    "submission['id'] = test_df['id'].values\n",
    "submission = submission[['id', 'Status_C', 'Status_CL', 'Status_D']]\n"
   ]
  },
  {
   "cell_type": "code",
   "execution_count": 40,
   "id": "4820e3cc",
   "metadata": {
    "execution": {
     "iopub.execute_input": "2025-07-15T15:59:29.092132Z",
     "iopub.status.busy": "2025-07-15T15:59:29.091211Z",
     "iopub.status.idle": "2025-07-15T15:59:29.152594Z",
     "shell.execute_reply": "2025-07-15T15:59:29.151574Z"
    },
    "papermill": {
     "duration": 0.077434,
     "end_time": "2025-07-15T15:59:29.154114",
     "exception": false,
     "start_time": "2025-07-15T15:59:29.076680",
     "status": "completed"
    },
    "tags": []
   },
   "outputs": [
    {
     "name": "stdout",
     "output_type": "stream",
     "text": [
      "✅ submission.csv saved with 10000 rows.\n"
     ]
    }
   ],
   "source": [
    "submission.to_csv('submission.csv', index=False)\n",
    "print(\"✅ submission.csv saved with\", len(submission), \"rows.\")\n"
   ]
  }
 ],
 "metadata": {
  "kaggle": {
   "accelerator": "none",
   "dataSources": [
    {
     "datasetId": 7857497,
     "sourceId": 12456281,
     "sourceType": "datasetVersion"
    }
   ],
   "dockerImageVersionId": 31089,
   "isGpuEnabled": false,
   "isInternetEnabled": true,
   "language": "python",
   "sourceType": "notebook"
  },
  "kernelspec": {
   "display_name": "Python 3",
   "language": "python",
   "name": "python3"
  },
  "language_info": {
   "codemirror_mode": {
    "name": "ipython",
    "version": 3
   },
   "file_extension": ".py",
   "mimetype": "text/x-python",
   "name": "python",
   "nbconvert_exporter": "python",
   "pygments_lexer": "ipython3",
   "version": "3.11.13"
  },
  "papermill": {
   "default_parameters": {},
   "duration": 21.113557,
   "end_time": "2025-07-15T15:59:29.888686",
   "environment_variables": {},
   "exception": null,
   "input_path": "__notebook__.ipynb",
   "output_path": "__notebook__.ipynb",
   "parameters": {},
   "start_time": "2025-07-15T15:59:08.775129",
   "version": "2.6.0"
  }
 },
 "nbformat": 4,
 "nbformat_minor": 5
}
